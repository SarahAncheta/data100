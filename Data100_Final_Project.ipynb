{
  "nbformat": 4,
  "nbformat_minor": 0,
  "metadata": {
    "colab": {
      "name": "Data100_Final_Project.ipynb",
      "provenance": [],
      "collapsed_sections": [],
      "toc_visible": true,
      "include_colab_link": true
    },
    "kernelspec": {
      "name": "python3",
      "display_name": "Python 3"
    }
  },
  "cells": [
    {
      "cell_type": "markdown",
      "metadata": {
        "id": "view-in-github",
        "colab_type": "text"
      },
      "source": [
        "<a href=\"https://colab.research.google.com/github/SarahAncheta/data100/blob/main/Data100_Final_Project.ipynb\" target=\"_parent\"><img src=\"https://colab.research.google.com/assets/colab-badge.svg\" alt=\"Open In Colab\"/></a>"
      ]
    },
    {
      "cell_type": "markdown",
      "metadata": {
        "id": "MAo8btP8s_CM"
      },
      "source": [
        "**Questions**\n",
        "1. How have early confinement policies affected the spread of COVID-19?\n",
        "2. Does climate have an effect on the amount of COVID-19 cases? Could warmer summer temperatures help stop the spread of the virus?\n",
        "3. Does a state's political party affiliation have an effect on the number of COVID-19 cases?\n",
        "\n",
        "_(Saw these 3 questions in the chat, not sure which 2 we want to choose.)_"
      ]
    },
    {
      "cell_type": "code",
      "metadata": {
        "id": "OWty84I9Vee_"
      },
      "source": [
        "import pandas as pd\n",
        "import matplotlib.pyplot as plt\n",
        "import numpy as np\n",
        "import warnings\n",
        "import seaborn as sns"
      ],
      "execution_count": null,
      "outputs": []
    },
    {
      "cell_type": "code",
      "metadata": {
        "id": "aK0Pj8PboDpG"
      },
      "source": [
        "url_deaths = 'https://raw.githubusercontent.com/CSSEGISandData/COVID-19/master/csse_covid_19_data/csse_covid_19_time_series/time_series_covid19_deaths_US.csv'\n",
        "url_confirmed = 'https://raw.githubusercontent.com/CSSEGISandData/COVID-19/master/csse_covid_19_data/csse_covid_19_time_series/time_series_covid19_confirmed_US.csv'\n",
        "url_county = 'https://raw.githubusercontent.com/Yu-Group/covid19-severity-prediction/master/data/county_data_abridged.csv'\n",
        "url_county_time = 'https://raw.githubusercontent.com/nytimes/covid-19-data/master/us-counties.csv'\n",
        "# Timeseries data on number of US deaths starting 1/22/20, updated daily\n",
        "#df_deaths = pd.read_csv(url_deaths)\n",
        "\n",
        "# Timeseries data on number of US confirmed cases starting 1/22/20, updated daily\n",
        "#df_confirmed = pd.read_csv(url_confirmed)\n",
        "\n",
        "# Timeseries data on number of US cases/deaths starting 1/25/20, by county\n",
        "df_county_time = pd.read_csv(url_county_time)\n",
        "\n",
        "# General county data including demographics, heathcare resources, social distancing\n",
        "# Column descriptors available at: https://github.com/Yu-Group/covid19-severity-prediction/blob/master/data/list_of_columns.md\n",
        "df_county = pd.read_csv(url_county)"
      ],
      "execution_count": null,
      "outputs": []
    },
    {
      "cell_type": "markdown",
      "metadata": {
        "id": "P6FJc28YHBSy"
      },
      "source": [
        "#EDA"
      ]
    },
    {
      "cell_type": "code",
      "metadata": {
        "id": "swBrEIxdHA3t",
        "outputId": "30beb4a6-285d-4ef4-f299-f622f83f5e19",
        "colab": {
          "base_uri": "https://localhost:8080/",
          "height": 206
        }
      },
      "source": [
        "df_county_time.head()"
      ],
      "execution_count": null,
      "outputs": [
        {
          "output_type": "execute_result",
          "data": {
            "text/html": [
              "<div>\n",
              "<style scoped>\n",
              "    .dataframe tbody tr th:only-of-type {\n",
              "        vertical-align: middle;\n",
              "    }\n",
              "\n",
              "    .dataframe tbody tr th {\n",
              "        vertical-align: top;\n",
              "    }\n",
              "\n",
              "    .dataframe thead th {\n",
              "        text-align: right;\n",
              "    }\n",
              "</style>\n",
              "<table border=\"1\" class=\"dataframe\">\n",
              "  <thead>\n",
              "    <tr style=\"text-align: right;\">\n",
              "      <th></th>\n",
              "      <th>date</th>\n",
              "      <th>county</th>\n",
              "      <th>state</th>\n",
              "      <th>fips</th>\n",
              "      <th>cases</th>\n",
              "      <th>deaths</th>\n",
              "    </tr>\n",
              "  </thead>\n",
              "  <tbody>\n",
              "    <tr>\n",
              "      <th>0</th>\n",
              "      <td>2020-01-21</td>\n",
              "      <td>Snohomish</td>\n",
              "      <td>Washington</td>\n",
              "      <td>53061.0</td>\n",
              "      <td>1</td>\n",
              "      <td>0</td>\n",
              "    </tr>\n",
              "    <tr>\n",
              "      <th>1</th>\n",
              "      <td>2020-01-22</td>\n",
              "      <td>Snohomish</td>\n",
              "      <td>Washington</td>\n",
              "      <td>53061.0</td>\n",
              "      <td>1</td>\n",
              "      <td>0</td>\n",
              "    </tr>\n",
              "    <tr>\n",
              "      <th>2</th>\n",
              "      <td>2020-01-23</td>\n",
              "      <td>Snohomish</td>\n",
              "      <td>Washington</td>\n",
              "      <td>53061.0</td>\n",
              "      <td>1</td>\n",
              "      <td>0</td>\n",
              "    </tr>\n",
              "    <tr>\n",
              "      <th>3</th>\n",
              "      <td>2020-01-24</td>\n",
              "      <td>Cook</td>\n",
              "      <td>Illinois</td>\n",
              "      <td>17031.0</td>\n",
              "      <td>1</td>\n",
              "      <td>0</td>\n",
              "    </tr>\n",
              "    <tr>\n",
              "      <th>4</th>\n",
              "      <td>2020-01-24</td>\n",
              "      <td>Snohomish</td>\n",
              "      <td>Washington</td>\n",
              "      <td>53061.0</td>\n",
              "      <td>1</td>\n",
              "      <td>0</td>\n",
              "    </tr>\n",
              "  </tbody>\n",
              "</table>\n",
              "</div>"
            ],
            "text/plain": [
              "         date     county       state     fips  cases  deaths\n",
              "0  2020-01-21  Snohomish  Washington  53061.0      1       0\n",
              "1  2020-01-22  Snohomish  Washington  53061.0      1       0\n",
              "2  2020-01-23  Snohomish  Washington  53061.0      1       0\n",
              "3  2020-01-24       Cook    Illinois  17031.0      1       0\n",
              "4  2020-01-24  Snohomish  Washington  53061.0      1       0"
            ]
          },
          "metadata": {
            "tags": []
          },
          "execution_count": 20
        }
      ]
    },
    {
      "cell_type": "code",
      "metadata": {
        "id": "kSAeGEPkHKGN",
        "outputId": "2e9d39c7-2c12-4278-b4d5-27cdcd8d3454",
        "colab": {
          "base_uri": "https://localhost:8080/",
          "height": 290
        }
      },
      "source": [
        "df_county.head()"
      ],
      "execution_count": null,
      "outputs": [
        {
          "output_type": "execute_result",
          "data": {
            "text/html": [
              "<div>\n",
              "<style scoped>\n",
              "    .dataframe tbody tr th:only-of-type {\n",
              "        vertical-align: middle;\n",
              "    }\n",
              "\n",
              "    .dataframe tbody tr th {\n",
              "        vertical-align: top;\n",
              "    }\n",
              "\n",
              "    .dataframe thead th {\n",
              "        text-align: right;\n",
              "    }\n",
              "</style>\n",
              "<table border=\"1\" class=\"dataframe\">\n",
              "  <thead>\n",
              "    <tr style=\"text-align: right;\">\n",
              "      <th></th>\n",
              "      <th>countyFIPS</th>\n",
              "      <th>STATEFP</th>\n",
              "      <th>COUNTYFP</th>\n",
              "      <th>CountyName</th>\n",
              "      <th>StateName</th>\n",
              "      <th>State</th>\n",
              "      <th>lat</th>\n",
              "      <th>lon</th>\n",
              "      <th>POP_LATITUDE</th>\n",
              "      <th>POP_LONGITUDE</th>\n",
              "      <th>CensusRegionName</th>\n",
              "      <th>CensusDivisionName</th>\n",
              "      <th>Rural-UrbanContinuumCode2013</th>\n",
              "      <th>PopulationEstimate2018</th>\n",
              "      <th>PopTotalMale2017</th>\n",
              "      <th>PopTotalFemale2017</th>\n",
              "      <th>FracMale2017</th>\n",
              "      <th>PopulationEstimate65+2017</th>\n",
              "      <th>PopulationDensityperSqMile2010</th>\n",
              "      <th>CensusPopulation2010</th>\n",
              "      <th>MedianAge2010</th>\n",
              "      <th>#EligibleforMedicare2018</th>\n",
              "      <th>MedicareEnrollment,AgedTot2017</th>\n",
              "      <th>3-YrDiabetes2015-17</th>\n",
              "      <th>DiabetesPercentage</th>\n",
              "      <th>HeartDiseaseMortality</th>\n",
              "      <th>StrokeMortality</th>\n",
              "      <th>Smokers_Percentage</th>\n",
              "      <th>RespMortalityRate2014</th>\n",
              "      <th>#FTEHospitalTotal2017</th>\n",
              "      <th>TotalM.D.'s,TotNon-FedandFed2017</th>\n",
              "      <th>#HospParticipatinginNetwork2017</th>\n",
              "      <th>#Hospitals</th>\n",
              "      <th>#ICU_beds</th>\n",
              "      <th>dem_to_rep_ratio</th>\n",
              "      <th>PopMale&lt;52010</th>\n",
              "      <th>PopFmle&lt;52010</th>\n",
              "      <th>PopMale5-92010</th>\n",
              "      <th>PopFmle5-92010</th>\n",
              "      <th>PopMale10-142010</th>\n",
              "      <th>...</th>\n",
              "      <th>PopMale30-342010</th>\n",
              "      <th>PopFmle30-342010</th>\n",
              "      <th>PopMale35-442010</th>\n",
              "      <th>PopFmle35-442010</th>\n",
              "      <th>PopMale45-542010</th>\n",
              "      <th>PopFmle45-542010</th>\n",
              "      <th>PopMale55-592010</th>\n",
              "      <th>PopFmle55-592010</th>\n",
              "      <th>PopMale60-642010</th>\n",
              "      <th>PopFmle60-642010</th>\n",
              "      <th>PopMale65-742010</th>\n",
              "      <th>PopFmle65-742010</th>\n",
              "      <th>PopMale75-842010</th>\n",
              "      <th>PopFmle75-842010</th>\n",
              "      <th>PopMale&gt;842010</th>\n",
              "      <th>PopFmle&gt;842010</th>\n",
              "      <th>3-YrMortalityAge&lt;1Year2015-17</th>\n",
              "      <th>3-YrMortalityAge1-4Years2015-17</th>\n",
              "      <th>3-YrMortalityAge5-14Years2015-17</th>\n",
              "      <th>3-YrMortalityAge15-24Years2015-17</th>\n",
              "      <th>3-YrMortalityAge25-34Years2015-17</th>\n",
              "      <th>3-YrMortalityAge35-44Years2015-17</th>\n",
              "      <th>3-YrMortalityAge45-54Years2015-17</th>\n",
              "      <th>3-YrMortalityAge55-64Years2015-17</th>\n",
              "      <th>3-YrMortalityAge65-74Years2015-17</th>\n",
              "      <th>3-YrMortalityAge75-84Years2015-17</th>\n",
              "      <th>3-YrMortalityAge85+Years2015-17</th>\n",
              "      <th>mortality2015-17Estimated</th>\n",
              "      <th>stay at home</th>\n",
              "      <th>&gt;50 gatherings</th>\n",
              "      <th>&gt;500 gatherings</th>\n",
              "      <th>public schools</th>\n",
              "      <th>restaurant dine-in</th>\n",
              "      <th>entertainment/gym</th>\n",
              "      <th>federal guidelines</th>\n",
              "      <th>foreign travel ban</th>\n",
              "      <th>SVIPercentile</th>\n",
              "      <th>HPSAShortage</th>\n",
              "      <th>HPSAServedPop</th>\n",
              "      <th>HPSAUnderservedPop</th>\n",
              "    </tr>\n",
              "  </thead>\n",
              "  <tbody>\n",
              "    <tr>\n",
              "      <th>0</th>\n",
              "      <td>01001</td>\n",
              "      <td>1.0</td>\n",
              "      <td>1.0</td>\n",
              "      <td>Autauga</td>\n",
              "      <td>AL</td>\n",
              "      <td>Alabama</td>\n",
              "      <td>32.540091</td>\n",
              "      <td>-86.645649</td>\n",
              "      <td>32.500389</td>\n",
              "      <td>-86.494165</td>\n",
              "      <td>South</td>\n",
              "      <td>East South Central</td>\n",
              "      <td>2.0</td>\n",
              "      <td>55601.0</td>\n",
              "      <td>27007.0</td>\n",
              "      <td>28497.0</td>\n",
              "      <td>0.486578</td>\n",
              "      <td>8392.0</td>\n",
              "      <td>91.8</td>\n",
              "      <td>54571.0</td>\n",
              "      <td>37.0</td>\n",
              "      <td>11439.0</td>\n",
              "      <td>8046.0</td>\n",
              "      <td>16.0</td>\n",
              "      <td>9.9</td>\n",
              "      <td>204.5</td>\n",
              "      <td>56.1</td>\n",
              "      <td>18.081557</td>\n",
              "      <td>81.79</td>\n",
              "      <td>324.0</td>\n",
              "      <td>50.0</td>\n",
              "      <td>0.0</td>\n",
              "      <td>1.0</td>\n",
              "      <td>6.0</td>\n",
              "      <td>0.326656</td>\n",
              "      <td>1866.0</td>\n",
              "      <td>1713.0</td>\n",
              "      <td>2001.0</td>\n",
              "      <td>1990.0</td>\n",
              "      <td>2171.0</td>\n",
              "      <td>...</td>\n",
              "      <td>1594.0</td>\n",
              "      <td>1736.0</td>\n",
              "      <td>3978.0</td>\n",
              "      <td>4265.0</td>\n",
              "      <td>4040.0</td>\n",
              "      <td>4165.0</td>\n",
              "      <td>1524.0</td>\n",
              "      <td>1559.0</td>\n",
              "      <td>1279.0</td>\n",
              "      <td>1498.0</td>\n",
              "      <td>1821.0</td>\n",
              "      <td>2192.0</td>\n",
              "      <td>841.0</td>\n",
              "      <td>1141.0</td>\n",
              "      <td>159.0</td>\n",
              "      <td>392.0</td>\n",
              "      <td>NaN</td>\n",
              "      <td>NaN</td>\n",
              "      <td>NaN</td>\n",
              "      <td>NaN</td>\n",
              "      <td>10.0</td>\n",
              "      <td>20.0</td>\n",
              "      <td>44.0</td>\n",
              "      <td>73.0</td>\n",
              "      <td>112.0</td>\n",
              "      <td>143.0</td>\n",
              "      <td>109.0</td>\n",
              "      <td>NaN</td>\n",
              "      <td>737519.0</td>\n",
              "      <td>737504.0</td>\n",
              "      <td>737497.0</td>\n",
              "      <td>737500.0</td>\n",
              "      <td>737503.0</td>\n",
              "      <td>737512.0</td>\n",
              "      <td>737500.0</td>\n",
              "      <td>737495.0</td>\n",
              "      <td>0.4354</td>\n",
              "      <td>NaN</td>\n",
              "      <td>NaN</td>\n",
              "      <td>NaN</td>\n",
              "    </tr>\n",
              "    <tr>\n",
              "      <th>1</th>\n",
              "      <td>01003</td>\n",
              "      <td>1.0</td>\n",
              "      <td>3.0</td>\n",
              "      <td>Baldwin</td>\n",
              "      <td>AL</td>\n",
              "      <td>Alabama</td>\n",
              "      <td>30.738314</td>\n",
              "      <td>-87.726272</td>\n",
              "      <td>30.548923</td>\n",
              "      <td>-87.762381</td>\n",
              "      <td>South</td>\n",
              "      <td>East South Central</td>\n",
              "      <td>3.0</td>\n",
              "      <td>218022.0</td>\n",
              "      <td>103225.0</td>\n",
              "      <td>109403.0</td>\n",
              "      <td>0.485472</td>\n",
              "      <td>42413.0</td>\n",
              "      <td>114.7</td>\n",
              "      <td>182265.0</td>\n",
              "      <td>41.1</td>\n",
              "      <td>54145.0</td>\n",
              "      <td>41590.0</td>\n",
              "      <td>33.0</td>\n",
              "      <td>8.5</td>\n",
              "      <td>183.2</td>\n",
              "      <td>41.9</td>\n",
              "      <td>17.489033</td>\n",
              "      <td>54.28</td>\n",
              "      <td>2101.0</td>\n",
              "      <td>536.0</td>\n",
              "      <td>0.0</td>\n",
              "      <td>3.0</td>\n",
              "      <td>51.0</td>\n",
              "      <td>0.253255</td>\n",
              "      <td>5614.0</td>\n",
              "      <td>5544.0</td>\n",
              "      <td>5832.0</td>\n",
              "      <td>5767.0</td>\n",
              "      <td>6076.0</td>\n",
              "      <td>...</td>\n",
              "      <td>5317.0</td>\n",
              "      <td>5392.0</td>\n",
              "      <td>11620.0</td>\n",
              "      <td>11933.0</td>\n",
              "      <td>13047.0</td>\n",
              "      <td>13874.0</td>\n",
              "      <td>5943.0</td>\n",
              "      <td>6580.0</td>\n",
              "      <td>5728.0</td>\n",
              "      <td>6284.0</td>\n",
              "      <td>8558.0</td>\n",
              "      <td>9245.0</td>\n",
              "      <td>4379.0</td>\n",
              "      <td>5153.0</td>\n",
              "      <td>1176.0</td>\n",
              "      <td>2057.0</td>\n",
              "      <td>13.0</td>\n",
              "      <td>NaN</td>\n",
              "      <td>NaN</td>\n",
              "      <td>23.0</td>\n",
              "      <td>30.0</td>\n",
              "      <td>52.0</td>\n",
              "      <td>125.0</td>\n",
              "      <td>262.0</td>\n",
              "      <td>434.0</td>\n",
              "      <td>546.0</td>\n",
              "      <td>597.0</td>\n",
              "      <td>NaN</td>\n",
              "      <td>737519.0</td>\n",
              "      <td>737504.0</td>\n",
              "      <td>737497.0</td>\n",
              "      <td>737500.0</td>\n",
              "      <td>737503.0</td>\n",
              "      <td>737512.0</td>\n",
              "      <td>737500.0</td>\n",
              "      <td>737495.0</td>\n",
              "      <td>0.2162</td>\n",
              "      <td>NaN</td>\n",
              "      <td>NaN</td>\n",
              "      <td>NaN</td>\n",
              "    </tr>\n",
              "    <tr>\n",
              "      <th>2</th>\n",
              "      <td>01005</td>\n",
              "      <td>1.0</td>\n",
              "      <td>5.0</td>\n",
              "      <td>Barbour</td>\n",
              "      <td>AL</td>\n",
              "      <td>Alabama</td>\n",
              "      <td>31.874030</td>\n",
              "      <td>-85.397327</td>\n",
              "      <td>31.844036</td>\n",
              "      <td>-85.310038</td>\n",
              "      <td>South</td>\n",
              "      <td>East South Central</td>\n",
              "      <td>6.0</td>\n",
              "      <td>24881.0</td>\n",
              "      <td>13335.0</td>\n",
              "      <td>11935.0</td>\n",
              "      <td>0.527701</td>\n",
              "      <td>4757.0</td>\n",
              "      <td>31.0</td>\n",
              "      <td>27457.0</td>\n",
              "      <td>39.0</td>\n",
              "      <td>6681.0</td>\n",
              "      <td>4706.0</td>\n",
              "      <td>NaN</td>\n",
              "      <td>15.7</td>\n",
              "      <td>220.4</td>\n",
              "      <td>49.0</td>\n",
              "      <td>21.999985</td>\n",
              "      <td>69.82</td>\n",
              "      <td>181.0</td>\n",
              "      <td>12.0</td>\n",
              "      <td>0.0</td>\n",
              "      <td>1.0</td>\n",
              "      <td>5.0</td>\n",
              "      <td>0.893106</td>\n",
              "      <td>847.0</td>\n",
              "      <td>855.0</td>\n",
              "      <td>826.0</td>\n",
              "      <td>816.0</td>\n",
              "      <td>820.0</td>\n",
              "      <td>...</td>\n",
              "      <td>1162.0</td>\n",
              "      <td>646.0</td>\n",
              "      <td>2115.0</td>\n",
              "      <td>1513.0</td>\n",
              "      <td>2164.0</td>\n",
              "      <td>1854.0</td>\n",
              "      <td>910.0</td>\n",
              "      <td>907.0</td>\n",
              "      <td>859.0</td>\n",
              "      <td>940.0</td>\n",
              "      <td>1067.0</td>\n",
              "      <td>1171.0</td>\n",
              "      <td>498.0</td>\n",
              "      <td>730.0</td>\n",
              "      <td>129.0</td>\n",
              "      <td>314.0</td>\n",
              "      <td>NaN</td>\n",
              "      <td>NaN</td>\n",
              "      <td>NaN</td>\n",
              "      <td>NaN</td>\n",
              "      <td>NaN</td>\n",
              "      <td>NaN</td>\n",
              "      <td>21.0</td>\n",
              "      <td>44.0</td>\n",
              "      <td>65.0</td>\n",
              "      <td>72.0</td>\n",
              "      <td>68.0</td>\n",
              "      <td>NaN</td>\n",
              "      <td>737519.0</td>\n",
              "      <td>737504.0</td>\n",
              "      <td>737497.0</td>\n",
              "      <td>737500.0</td>\n",
              "      <td>737503.0</td>\n",
              "      <td>737512.0</td>\n",
              "      <td>737500.0</td>\n",
              "      <td>737495.0</td>\n",
              "      <td>0.9959</td>\n",
              "      <td>6.08</td>\n",
              "      <td>5400.0</td>\n",
              "      <td>18241.0</td>\n",
              "    </tr>\n",
              "    <tr>\n",
              "      <th>3</th>\n",
              "      <td>01007</td>\n",
              "      <td>1.0</td>\n",
              "      <td>7.0</td>\n",
              "      <td>Bibb</td>\n",
              "      <td>AL</td>\n",
              "      <td>Alabama</td>\n",
              "      <td>32.999024</td>\n",
              "      <td>-87.125260</td>\n",
              "      <td>33.030921</td>\n",
              "      <td>-87.127659</td>\n",
              "      <td>South</td>\n",
              "      <td>East South Central</td>\n",
              "      <td>1.0</td>\n",
              "      <td>22400.0</td>\n",
              "      <td>12138.0</td>\n",
              "      <td>10530.0</td>\n",
              "      <td>0.535469</td>\n",
              "      <td>3632.0</td>\n",
              "      <td>36.8</td>\n",
              "      <td>22915.0</td>\n",
              "      <td>37.8</td>\n",
              "      <td>5128.0</td>\n",
              "      <td>3389.0</td>\n",
              "      <td>NaN</td>\n",
              "      <td>13.3</td>\n",
              "      <td>225.5</td>\n",
              "      <td>57.2</td>\n",
              "      <td>19.114200</td>\n",
              "      <td>84.49</td>\n",
              "      <td>145.0</td>\n",
              "      <td>16.0</td>\n",
              "      <td>0.0</td>\n",
              "      <td>1.0</td>\n",
              "      <td>0.0</td>\n",
              "      <td>0.278124</td>\n",
              "      <td>712.0</td>\n",
              "      <td>666.0</td>\n",
              "      <td>759.0</td>\n",
              "      <td>646.0</td>\n",
              "      <td>771.0</td>\n",
              "      <td>...</td>\n",
              "      <td>1013.0</td>\n",
              "      <td>633.0</td>\n",
              "      <td>1895.0</td>\n",
              "      <td>1487.0</td>\n",
              "      <td>1883.0</td>\n",
              "      <td>1503.0</td>\n",
              "      <td>734.0</td>\n",
              "      <td>667.0</td>\n",
              "      <td>684.0</td>\n",
              "      <td>650.0</td>\n",
              "      <td>803.0</td>\n",
              "      <td>920.0</td>\n",
              "      <td>370.0</td>\n",
              "      <td>534.0</td>\n",
              "      <td>73.0</td>\n",
              "      <td>206.0</td>\n",
              "      <td>NaN</td>\n",
              "      <td>NaN</td>\n",
              "      <td>NaN</td>\n",
              "      <td>NaN</td>\n",
              "      <td>NaN</td>\n",
              "      <td>NaN</td>\n",
              "      <td>24.0</td>\n",
              "      <td>37.0</td>\n",
              "      <td>62.0</td>\n",
              "      <td>56.0</td>\n",
              "      <td>45.0</td>\n",
              "      <td>NaN</td>\n",
              "      <td>737519.0</td>\n",
              "      <td>737504.0</td>\n",
              "      <td>737497.0</td>\n",
              "      <td>737500.0</td>\n",
              "      <td>737503.0</td>\n",
              "      <td>737512.0</td>\n",
              "      <td>737500.0</td>\n",
              "      <td>737495.0</td>\n",
              "      <td>0.6003</td>\n",
              "      <td>2.75</td>\n",
              "      <td>14980.0</td>\n",
              "      <td>6120.0</td>\n",
              "    </tr>\n",
              "    <tr>\n",
              "      <th>4</th>\n",
              "      <td>01009</td>\n",
              "      <td>1.0</td>\n",
              "      <td>9.0</td>\n",
              "      <td>Blount</td>\n",
              "      <td>AL</td>\n",
              "      <td>Alabama</td>\n",
              "      <td>33.990440</td>\n",
              "      <td>-86.562711</td>\n",
              "      <td>33.955243</td>\n",
              "      <td>-86.591491</td>\n",
              "      <td>South</td>\n",
              "      <td>East South Central</td>\n",
              "      <td>1.0</td>\n",
              "      <td>57840.0</td>\n",
              "      <td>28607.0</td>\n",
              "      <td>29406.0</td>\n",
              "      <td>0.493114</td>\n",
              "      <td>10351.0</td>\n",
              "      <td>88.9</td>\n",
              "      <td>57322.0</td>\n",
              "      <td>39.0</td>\n",
              "      <td>13175.0</td>\n",
              "      <td>9542.0</td>\n",
              "      <td>NaN</td>\n",
              "      <td>14.9</td>\n",
              "      <td>224.8</td>\n",
              "      <td>52.8</td>\n",
              "      <td>19.208672</td>\n",
              "      <td>87.05</td>\n",
              "      <td>103.0</td>\n",
              "      <td>18.0</td>\n",
              "      <td>1.0</td>\n",
              "      <td>1.0</td>\n",
              "      <td>6.0</td>\n",
              "      <td>0.094317</td>\n",
              "      <td>1805.0</td>\n",
              "      <td>1811.0</td>\n",
              "      <td>1936.0</td>\n",
              "      <td>1944.0</td>\n",
              "      <td>2113.0</td>\n",
              "      <td>...</td>\n",
              "      <td>1730.0</td>\n",
              "      <td>1711.0</td>\n",
              "      <td>4022.0</td>\n",
              "      <td>3903.0</td>\n",
              "      <td>4068.0</td>\n",
              "      <td>4017.0</td>\n",
              "      <td>1810.0</td>\n",
              "      <td>1884.0</td>\n",
              "      <td>1700.0</td>\n",
              "      <td>1882.0</td>\n",
              "      <td>2391.0</td>\n",
              "      <td>2688.0</td>\n",
              "      <td>1102.0</td>\n",
              "      <td>1450.0</td>\n",
              "      <td>234.0</td>\n",
              "      <td>574.0</td>\n",
              "      <td>NaN</td>\n",
              "      <td>NaN</td>\n",
              "      <td>NaN</td>\n",
              "      <td>10.0</td>\n",
              "      <td>13.0</td>\n",
              "      <td>25.0</td>\n",
              "      <td>49.0</td>\n",
              "      <td>94.0</td>\n",
              "      <td>150.0</td>\n",
              "      <td>182.0</td>\n",
              "      <td>142.0</td>\n",
              "      <td>NaN</td>\n",
              "      <td>737519.0</td>\n",
              "      <td>737504.0</td>\n",
              "      <td>737497.0</td>\n",
              "      <td>737500.0</td>\n",
              "      <td>737503.0</td>\n",
              "      <td>737512.0</td>\n",
              "      <td>737500.0</td>\n",
              "      <td>737495.0</td>\n",
              "      <td>0.4242</td>\n",
              "      <td>7.21</td>\n",
              "      <td>31850.0</td>\n",
              "      <td>25233.0</td>\n",
              "    </tr>\n",
              "  </tbody>\n",
              "</table>\n",
              "<p>5 rows × 87 columns</p>\n",
              "</div>"
            ],
            "text/plain": [
              "  countyFIPS  STATEFP  ...  HPSAServedPop HPSAUnderservedPop\n",
              "0      01001      1.0  ...            NaN                NaN\n",
              "1      01003      1.0  ...            NaN                NaN\n",
              "2      01005      1.0  ...         5400.0            18241.0\n",
              "3      01007      1.0  ...        14980.0             6120.0\n",
              "4      01009      1.0  ...        31850.0            25233.0\n",
              "\n",
              "[5 rows x 87 columns]"
            ]
          },
          "metadata": {
            "tags": []
          },
          "execution_count": 21
        }
      ]
    },
    {
      "cell_type": "code",
      "metadata": {
        "id": "MPcYinHvHMu-",
        "outputId": "fa630f20-860c-4d4b-d458-d26ac2f96f42",
        "colab": {
          "base_uri": "https://localhost:8080/",
          "height": 237
        }
      },
      "source": [
        "df_county_time.isnull().sum()\n",
        "df_county.isnull().sum()"
      ],
      "execution_count": null,
      "outputs": [
        {
          "output_type": "execute_result",
          "data": {
            "text/plain": [
              "countyFIPS               0\n",
              "STATEFP                 23\n",
              "COUNTYFP                23\n",
              "CountyName               0\n",
              "StateName                0\n",
              "                      ... \n",
              "foreign travel ban      25\n",
              "SVIPercentile          104\n",
              "HPSAShortage          1141\n",
              "HPSAServedPop         1141\n",
              "HPSAUnderservedPop    1141\n",
              "Length: 87, dtype: int64"
            ]
          },
          "metadata": {
            "tags": []
          },
          "execution_count": 22
        }
      ]
    },
    {
      "cell_type": "markdown",
      "metadata": {
        "id": "YH3u92MrHECz"
      },
      "source": [
        "# Data Cleaning"
      ]
    },
    {
      "cell_type": "code",
      "metadata": {
        "id": "-QOFngTg_GWI"
      },
      "source": [
        "# Cleaned df for county cases/deaths timeseries\n",
        "time_clean = df_county_time.drop('fips', axis = 1)\n",
        "time_clean['date'] = pd.to_datetime(time_clean['date'])"
      ],
      "execution_count": null,
      "outputs": []
    },
    {
      "cell_type": "code",
      "metadata": {
        "id": "WfRmKJJNIF9X"
      },
      "source": [
        "# Choose columns deemed potentially important in df_county\n",
        "df_clean_county = df_county[['CountyName', 'State','#EligibleforMedicare2018','MedicareEnrollment,AgedTot2017', \n",
        "                             '#FTEHospitalTotal2017', \"TotalM.D.'s,TotNon-FedandFed2017\", '#HospParticipatinginNetwork2017', \n",
        "                             '#Hospitals', '#ICU_beds', 'dem_to_rep_ratio', 'stay at home', '>50 gatherings', '>500 gatherings', \n",
        "                             'public schools', 'restaurant dine-in', 'entertainment/gym', 'federal guidelines', \n",
        "                             'foreign travel ban', 'SVIPercentile','PopulationEstimate2018']]"
      ],
      "execution_count": null,
      "outputs": []
    },
    {
      "cell_type": "code",
      "metadata": {
        "id": "NJ4sXeGFSsYR"
      },
      "source": [
        "# ELLESE TRIES TO CONSOLIDATE THE CODE\n",
        "# IF ALL GOES WELL, THIS CAN REPLACE ALL THE BOTTOM CODE CHUNKS...\n",
        "    \n",
        "# States we want to choose. Change this list to change which states and code will automatically clean for those states\n",
        "states = ['California', 'Florida', 'Pennsylvania']\n",
        "\n",
        "# Create new column to track the number of days since first case was observed\n",
        "time_clean = time_clean[time_clean['state'].isin(states)]\n",
        "time_clean['# days since first case'] = np.zeros(time_clean.shape[0])\n",
        "\n",
        "for i in states:\n",
        "  counties = time_clean.loc[time_clean['state'] == i]['county'].unique()\n",
        "  for j in counties:\n",
        "    time_clean.loc[(time_clean['county'] == j) & (time_clean['state'] == i), ['# days since first case']] = \\\n",
        "    [k + 1 for k in range(0, time_clean.loc[(time_clean['county'] == j) & (time_clean['state'] == i)].shape[0])]"
      ],
      "execution_count": null,
      "outputs": []
    },
    {
      "cell_type": "code",
      "metadata": {
        "id": "ns4m2uxKV_VJ",
        "outputId": "41c1ede4-bd33-431a-c29c-b7ad9fc80add",
        "colab": {
          "base_uri": "https://localhost:8080/",
          "height": 296
        }
      },
      "source": [
        "# ELLESE STILL TRYING TO CONSOLIDATE CODE\n",
        "\n",
        "big_df = df_clean_county[df_clean_county['State'].isin(states)]\n",
        "big_df = big_df.rename({'CountyName': 'county', 'State':'state'}, axis = 1)\n",
        "\n",
        "# Convert ordinal dates to # of days ince first policy was enacted\n",
        "distancing = ['stay at home', '>50 gatherings', '>500 gatherings', 'public schools', 'restaurant dine-in', \n",
        "              'entertainment/gym', 'federal guidelines', 'foreign travel ban']\n",
        "for i in distancing:\n",
        "  big_df.loc[i] = big_df[i] - big_df[i].min()\n",
        "\n",
        "# Merge time series and county data\n",
        "big_df = big_df.merge(time_clean, on=['county', 'state'])\n",
        "\n",
        "big_df['proportion deaths'] = big_df['deaths'] / big_df['PopulationEstimate2018']\n",
        "big_df['proportion cases'] = big_df['cases'] / big_df['PopulationEstimate2018']\n",
        "\n",
        "big_df.head()"
      ],
      "execution_count": null,
      "outputs": [
        {
          "output_type": "execute_result",
          "data": {
            "text/html": [
              "<div>\n",
              "<style scoped>\n",
              "    .dataframe tbody tr th:only-of-type {\n",
              "        vertical-align: middle;\n",
              "    }\n",
              "\n",
              "    .dataframe tbody tr th {\n",
              "        vertical-align: top;\n",
              "    }\n",
              "\n",
              "    .dataframe thead th {\n",
              "        text-align: right;\n",
              "    }\n",
              "</style>\n",
              "<table border=\"1\" class=\"dataframe\">\n",
              "  <thead>\n",
              "    <tr style=\"text-align: right;\">\n",
              "      <th></th>\n",
              "      <th>county</th>\n",
              "      <th>state</th>\n",
              "      <th>#EligibleforMedicare2018</th>\n",
              "      <th>MedicareEnrollment,AgedTot2017</th>\n",
              "      <th>#FTEHospitalTotal2017</th>\n",
              "      <th>TotalM.D.'s,TotNon-FedandFed2017</th>\n",
              "      <th>#HospParticipatinginNetwork2017</th>\n",
              "      <th>#Hospitals</th>\n",
              "      <th>#ICU_beds</th>\n",
              "      <th>dem_to_rep_ratio</th>\n",
              "      <th>stay at home</th>\n",
              "      <th>&gt;50 gatherings</th>\n",
              "      <th>&gt;500 gatherings</th>\n",
              "      <th>public schools</th>\n",
              "      <th>restaurant dine-in</th>\n",
              "      <th>entertainment/gym</th>\n",
              "      <th>federal guidelines</th>\n",
              "      <th>foreign travel ban</th>\n",
              "      <th>SVIPercentile</th>\n",
              "      <th>PopulationEstimate2018</th>\n",
              "      <th>date</th>\n",
              "      <th>cases</th>\n",
              "      <th>deaths</th>\n",
              "      <th># days since first case</th>\n",
              "      <th>proportion deaths</th>\n",
              "      <th>proportion cases</th>\n",
              "    </tr>\n",
              "  </thead>\n",
              "  <tbody>\n",
              "    <tr>\n",
              "      <th>0</th>\n",
              "      <td>Alameda</td>\n",
              "      <td>California</td>\n",
              "      <td>253144.0</td>\n",
              "      <td>206830.0</td>\n",
              "      <td>18353.0</td>\n",
              "      <td>6636.0</td>\n",
              "      <td>6.0</td>\n",
              "      <td>12.0</td>\n",
              "      <td>282.0</td>\n",
              "      <td>5.367298</td>\n",
              "      <td>737503.0</td>\n",
              "      <td>737503.0</td>\n",
              "      <td>737503.0</td>\n",
              "      <td>737503.0</td>\n",
              "      <td>737499.0</td>\n",
              "      <td>737499.0</td>\n",
              "      <td>737500.0</td>\n",
              "      <td>737495.0</td>\n",
              "      <td>0.4701</td>\n",
              "      <td>1666753.0</td>\n",
              "      <td>2020-03-01</td>\n",
              "      <td>1</td>\n",
              "      <td>0</td>\n",
              "      <td>1.0</td>\n",
              "      <td>0.0</td>\n",
              "      <td>5.999689e-07</td>\n",
              "    </tr>\n",
              "    <tr>\n",
              "      <th>1</th>\n",
              "      <td>Alameda</td>\n",
              "      <td>California</td>\n",
              "      <td>253144.0</td>\n",
              "      <td>206830.0</td>\n",
              "      <td>18353.0</td>\n",
              "      <td>6636.0</td>\n",
              "      <td>6.0</td>\n",
              "      <td>12.0</td>\n",
              "      <td>282.0</td>\n",
              "      <td>5.367298</td>\n",
              "      <td>737503.0</td>\n",
              "      <td>737503.0</td>\n",
              "      <td>737503.0</td>\n",
              "      <td>737503.0</td>\n",
              "      <td>737499.0</td>\n",
              "      <td>737499.0</td>\n",
              "      <td>737500.0</td>\n",
              "      <td>737495.0</td>\n",
              "      <td>0.4701</td>\n",
              "      <td>1666753.0</td>\n",
              "      <td>2020-03-02</td>\n",
              "      <td>1</td>\n",
              "      <td>0</td>\n",
              "      <td>2.0</td>\n",
              "      <td>0.0</td>\n",
              "      <td>5.999689e-07</td>\n",
              "    </tr>\n",
              "    <tr>\n",
              "      <th>2</th>\n",
              "      <td>Alameda</td>\n",
              "      <td>California</td>\n",
              "      <td>253144.0</td>\n",
              "      <td>206830.0</td>\n",
              "      <td>18353.0</td>\n",
              "      <td>6636.0</td>\n",
              "      <td>6.0</td>\n",
              "      <td>12.0</td>\n",
              "      <td>282.0</td>\n",
              "      <td>5.367298</td>\n",
              "      <td>737503.0</td>\n",
              "      <td>737503.0</td>\n",
              "      <td>737503.0</td>\n",
              "      <td>737503.0</td>\n",
              "      <td>737499.0</td>\n",
              "      <td>737499.0</td>\n",
              "      <td>737500.0</td>\n",
              "      <td>737495.0</td>\n",
              "      <td>0.4701</td>\n",
              "      <td>1666753.0</td>\n",
              "      <td>2020-03-03</td>\n",
              "      <td>2</td>\n",
              "      <td>0</td>\n",
              "      <td>3.0</td>\n",
              "      <td>0.0</td>\n",
              "      <td>1.199938e-06</td>\n",
              "    </tr>\n",
              "    <tr>\n",
              "      <th>3</th>\n",
              "      <td>Alameda</td>\n",
              "      <td>California</td>\n",
              "      <td>253144.0</td>\n",
              "      <td>206830.0</td>\n",
              "      <td>18353.0</td>\n",
              "      <td>6636.0</td>\n",
              "      <td>6.0</td>\n",
              "      <td>12.0</td>\n",
              "      <td>282.0</td>\n",
              "      <td>5.367298</td>\n",
              "      <td>737503.0</td>\n",
              "      <td>737503.0</td>\n",
              "      <td>737503.0</td>\n",
              "      <td>737503.0</td>\n",
              "      <td>737499.0</td>\n",
              "      <td>737499.0</td>\n",
              "      <td>737500.0</td>\n",
              "      <td>737495.0</td>\n",
              "      <td>0.4701</td>\n",
              "      <td>1666753.0</td>\n",
              "      <td>2020-03-04</td>\n",
              "      <td>2</td>\n",
              "      <td>0</td>\n",
              "      <td>4.0</td>\n",
              "      <td>0.0</td>\n",
              "      <td>1.199938e-06</td>\n",
              "    </tr>\n",
              "    <tr>\n",
              "      <th>4</th>\n",
              "      <td>Alameda</td>\n",
              "      <td>California</td>\n",
              "      <td>253144.0</td>\n",
              "      <td>206830.0</td>\n",
              "      <td>18353.0</td>\n",
              "      <td>6636.0</td>\n",
              "      <td>6.0</td>\n",
              "      <td>12.0</td>\n",
              "      <td>282.0</td>\n",
              "      <td>5.367298</td>\n",
              "      <td>737503.0</td>\n",
              "      <td>737503.0</td>\n",
              "      <td>737503.0</td>\n",
              "      <td>737503.0</td>\n",
              "      <td>737499.0</td>\n",
              "      <td>737499.0</td>\n",
              "      <td>737500.0</td>\n",
              "      <td>737495.0</td>\n",
              "      <td>0.4701</td>\n",
              "      <td>1666753.0</td>\n",
              "      <td>2020-03-05</td>\n",
              "      <td>2</td>\n",
              "      <td>0</td>\n",
              "      <td>5.0</td>\n",
              "      <td>0.0</td>\n",
              "      <td>1.199938e-06</td>\n",
              "    </tr>\n",
              "  </tbody>\n",
              "</table>\n",
              "</div>"
            ],
            "text/plain": [
              "    county       state  ...  proportion deaths  proportion cases\n",
              "0  Alameda  California  ...                0.0      5.999689e-07\n",
              "1  Alameda  California  ...                0.0      5.999689e-07\n",
              "2  Alameda  California  ...                0.0      1.199938e-06\n",
              "3  Alameda  California  ...                0.0      1.199938e-06\n",
              "4  Alameda  California  ...                0.0      1.199938e-06\n",
              "\n",
              "[5 rows x 26 columns]"
            ]
          },
          "metadata": {
            "tags": []
          },
          "execution_count": 26
        }
      ]
    },
    {
      "cell_type": "markdown",
      "metadata": {
        "id": "j5Dh7BwYh3pE"
      },
      "source": [
        "# NOTE FROM ELLESE\n",
        "### The two cells above should now be sufficient to replace the data cleaning cells below. \n",
        "\n",
        "### You will need to filter from `big_df` to get specific data if you want _just_ one state"
      ]
    },
    {
      "cell_type": "code",
      "metadata": {
        "id": "aA_M13D56bs8",
        "outputId": "b23f8142-e520-4629-bd62-295fd2c0231a",
        "colab": {
          "base_uri": "https://localhost:8080/",
          "height": 395
        }
      },
      "source": [
        "#filter dataset to only include counties in California, all 58\n",
        "cali_clean = df_clean_county[df_clean_county['State'] == 'California']\n",
        "florida_clean = df_clean_county[df_clean_county['State'] == 'Florida']\n",
        "\n",
        "#found columns with null values\n",
        "cali_clean.isnull().sum()\n",
        "florida_clean.isnull().sum()\n",
        "\n",
        "#dropped columns with a lot of null values 'HPSAShortage', 'HPSAServedPop', 'HPSAUnderservedPop' and 'mortality2015-17Estimated'\n",
        "#also removed 'STATEFP', 'StateName', 'State', 'foreign travel ban' and 'federal guidelines', since consistent across all of california\n",
        "\n",
        "cali_clean = cali_clean.drop(['STATEFP', 'State', 'HPSAShortage', 'HPSAServedPop', 'HPSAUnderservedPop', 'mortality2015-17Estimated', 'federal guidelines', 'foreign travel ban'], axis = 1)\n",
        "florida_clean = florida_clean.drop(['STATEFP', 'State', 'HPSAShortage', 'HPSAServedPop', 'HPSAUnderservedPop', 'mortality2015-17Estimated', 'federal guidelines', 'foreign travel ban'], axis = 1)\n",
        "#soclean\n",
        "cali_is_so_clean = cali_clean[['CountyName', 'dem_to_rep_ratio', 'SVIPercentile','stay at home','PopulationEstimate2018']]\n",
        "florida_is_so_clean = florida_clean[['CountyName', 'dem_to_rep_ratio', 'SVIPercentile','stay at home','PopulationEstimate2018']]\n",
        "\n",
        "florida_is_so_clean"
      ],
      "execution_count": null,
      "outputs": [
        {
          "output_type": "error",
          "ename": "KeyError",
          "evalue": "ignored",
          "traceback": [
            "\u001b[0;31m---------------------------------------------------------------------------\u001b[0m",
            "\u001b[0;31mKeyError\u001b[0m                                  Traceback (most recent call last)",
            "\u001b[0;32m<ipython-input-13-160caad7e428>\u001b[0m in \u001b[0;36m<module>\u001b[0;34m()\u001b[0m\n\u001b[1;32m     10\u001b[0m \u001b[0;31m#also removed 'STATEFP', 'StateName', 'State', 'foreign travel ban' and 'federal guidelines', since consistent across all of california\u001b[0m\u001b[0;34m\u001b[0m\u001b[0;34m\u001b[0m\u001b[0;34m\u001b[0m\u001b[0m\n\u001b[1;32m     11\u001b[0m \u001b[0;34m\u001b[0m\u001b[0m\n\u001b[0;32m---> 12\u001b[0;31m \u001b[0mcali_clean\u001b[0m \u001b[0;34m=\u001b[0m \u001b[0mcali_clean\u001b[0m\u001b[0;34m.\u001b[0m\u001b[0mdrop\u001b[0m\u001b[0;34m(\u001b[0m\u001b[0;34m[\u001b[0m\u001b[0;34m'STATEFP'\u001b[0m\u001b[0;34m,\u001b[0m \u001b[0;34m'State'\u001b[0m\u001b[0;34m,\u001b[0m \u001b[0;34m'HPSAShortage'\u001b[0m\u001b[0;34m,\u001b[0m \u001b[0;34m'HPSAServedPop'\u001b[0m\u001b[0;34m,\u001b[0m \u001b[0;34m'HPSAUnderservedPop'\u001b[0m\u001b[0;34m,\u001b[0m \u001b[0;34m'mortality2015-17Estimated'\u001b[0m\u001b[0;34m,\u001b[0m \u001b[0;34m'federal guidelines'\u001b[0m\u001b[0;34m,\u001b[0m \u001b[0;34m'foreign travel ban'\u001b[0m\u001b[0;34m]\u001b[0m\u001b[0;34m,\u001b[0m \u001b[0maxis\u001b[0m \u001b[0;34m=\u001b[0m \u001b[0;36m1\u001b[0m\u001b[0;34m)\u001b[0m\u001b[0;34m\u001b[0m\u001b[0;34m\u001b[0m\u001b[0m\n\u001b[0m\u001b[1;32m     13\u001b[0m \u001b[0mflorida_clean\u001b[0m \u001b[0;34m=\u001b[0m \u001b[0mflorida_clean\u001b[0m\u001b[0;34m.\u001b[0m\u001b[0mdrop\u001b[0m\u001b[0;34m(\u001b[0m\u001b[0;34m[\u001b[0m\u001b[0;34m'STATEFP'\u001b[0m\u001b[0;34m,\u001b[0m \u001b[0;34m'State'\u001b[0m\u001b[0;34m,\u001b[0m \u001b[0;34m'HPSAShortage'\u001b[0m\u001b[0;34m,\u001b[0m \u001b[0;34m'HPSAServedPop'\u001b[0m\u001b[0;34m,\u001b[0m \u001b[0;34m'HPSAUnderservedPop'\u001b[0m\u001b[0;34m,\u001b[0m \u001b[0;34m'mortality2015-17Estimated'\u001b[0m\u001b[0;34m,\u001b[0m \u001b[0;34m'federal guidelines'\u001b[0m\u001b[0;34m,\u001b[0m \u001b[0;34m'foreign travel ban'\u001b[0m\u001b[0;34m]\u001b[0m\u001b[0;34m,\u001b[0m \u001b[0maxis\u001b[0m \u001b[0;34m=\u001b[0m \u001b[0;36m1\u001b[0m\u001b[0;34m)\u001b[0m\u001b[0;34m\u001b[0m\u001b[0;34m\u001b[0m\u001b[0m\n\u001b[1;32m     14\u001b[0m \u001b[0;31m#soclean\u001b[0m\u001b[0;34m\u001b[0m\u001b[0;34m\u001b[0m\u001b[0;34m\u001b[0m\u001b[0m\n",
            "\u001b[0;32m/usr/local/lib/python3.6/dist-packages/pandas/core/frame.py\u001b[0m in \u001b[0;36mdrop\u001b[0;34m(self, labels, axis, index, columns, level, inplace, errors)\u001b[0m\n\u001b[1;32m   3995\u001b[0m             \u001b[0mlevel\u001b[0m\u001b[0;34m=\u001b[0m\u001b[0mlevel\u001b[0m\u001b[0;34m,\u001b[0m\u001b[0;34m\u001b[0m\u001b[0;34m\u001b[0m\u001b[0m\n\u001b[1;32m   3996\u001b[0m             \u001b[0minplace\u001b[0m\u001b[0;34m=\u001b[0m\u001b[0minplace\u001b[0m\u001b[0;34m,\u001b[0m\u001b[0;34m\u001b[0m\u001b[0;34m\u001b[0m\u001b[0m\n\u001b[0;32m-> 3997\u001b[0;31m             \u001b[0merrors\u001b[0m\u001b[0;34m=\u001b[0m\u001b[0merrors\u001b[0m\u001b[0;34m,\u001b[0m\u001b[0;34m\u001b[0m\u001b[0;34m\u001b[0m\u001b[0m\n\u001b[0m\u001b[1;32m   3998\u001b[0m         )\n\u001b[1;32m   3999\u001b[0m \u001b[0;34m\u001b[0m\u001b[0m\n",
            "\u001b[0;32m/usr/local/lib/python3.6/dist-packages/pandas/core/generic.py\u001b[0m in \u001b[0;36mdrop\u001b[0;34m(self, labels, axis, index, columns, level, inplace, errors)\u001b[0m\n\u001b[1;32m   3934\u001b[0m         \u001b[0;32mfor\u001b[0m \u001b[0maxis\u001b[0m\u001b[0;34m,\u001b[0m \u001b[0mlabels\u001b[0m \u001b[0;32min\u001b[0m \u001b[0maxes\u001b[0m\u001b[0;34m.\u001b[0m\u001b[0mitems\u001b[0m\u001b[0;34m(\u001b[0m\u001b[0;34m)\u001b[0m\u001b[0;34m:\u001b[0m\u001b[0;34m\u001b[0m\u001b[0;34m\u001b[0m\u001b[0m\n\u001b[1;32m   3935\u001b[0m             \u001b[0;32mif\u001b[0m \u001b[0mlabels\u001b[0m \u001b[0;32mis\u001b[0m \u001b[0;32mnot\u001b[0m \u001b[0;32mNone\u001b[0m\u001b[0;34m:\u001b[0m\u001b[0;34m\u001b[0m\u001b[0;34m\u001b[0m\u001b[0m\n\u001b[0;32m-> 3936\u001b[0;31m                 \u001b[0mobj\u001b[0m \u001b[0;34m=\u001b[0m \u001b[0mobj\u001b[0m\u001b[0;34m.\u001b[0m\u001b[0m_drop_axis\u001b[0m\u001b[0;34m(\u001b[0m\u001b[0mlabels\u001b[0m\u001b[0;34m,\u001b[0m \u001b[0maxis\u001b[0m\u001b[0;34m,\u001b[0m \u001b[0mlevel\u001b[0m\u001b[0;34m=\u001b[0m\u001b[0mlevel\u001b[0m\u001b[0;34m,\u001b[0m \u001b[0merrors\u001b[0m\u001b[0;34m=\u001b[0m\u001b[0merrors\u001b[0m\u001b[0;34m)\u001b[0m\u001b[0;34m\u001b[0m\u001b[0;34m\u001b[0m\u001b[0m\n\u001b[0m\u001b[1;32m   3937\u001b[0m \u001b[0;34m\u001b[0m\u001b[0m\n\u001b[1;32m   3938\u001b[0m         \u001b[0;32mif\u001b[0m \u001b[0minplace\u001b[0m\u001b[0;34m:\u001b[0m\u001b[0;34m\u001b[0m\u001b[0;34m\u001b[0m\u001b[0m\n",
            "\u001b[0;32m/usr/local/lib/python3.6/dist-packages/pandas/core/generic.py\u001b[0m in \u001b[0;36m_drop_axis\u001b[0;34m(self, labels, axis, level, errors)\u001b[0m\n\u001b[1;32m   3968\u001b[0m                 \u001b[0mnew_axis\u001b[0m \u001b[0;34m=\u001b[0m \u001b[0maxis\u001b[0m\u001b[0;34m.\u001b[0m\u001b[0mdrop\u001b[0m\u001b[0;34m(\u001b[0m\u001b[0mlabels\u001b[0m\u001b[0;34m,\u001b[0m \u001b[0mlevel\u001b[0m\u001b[0;34m=\u001b[0m\u001b[0mlevel\u001b[0m\u001b[0;34m,\u001b[0m \u001b[0merrors\u001b[0m\u001b[0;34m=\u001b[0m\u001b[0merrors\u001b[0m\u001b[0;34m)\u001b[0m\u001b[0;34m\u001b[0m\u001b[0;34m\u001b[0m\u001b[0m\n\u001b[1;32m   3969\u001b[0m             \u001b[0;32melse\u001b[0m\u001b[0;34m:\u001b[0m\u001b[0;34m\u001b[0m\u001b[0;34m\u001b[0m\u001b[0m\n\u001b[0;32m-> 3970\u001b[0;31m                 \u001b[0mnew_axis\u001b[0m \u001b[0;34m=\u001b[0m \u001b[0maxis\u001b[0m\u001b[0;34m.\u001b[0m\u001b[0mdrop\u001b[0m\u001b[0;34m(\u001b[0m\u001b[0mlabels\u001b[0m\u001b[0;34m,\u001b[0m \u001b[0merrors\u001b[0m\u001b[0;34m=\u001b[0m\u001b[0merrors\u001b[0m\u001b[0;34m)\u001b[0m\u001b[0;34m\u001b[0m\u001b[0;34m\u001b[0m\u001b[0m\n\u001b[0m\u001b[1;32m   3971\u001b[0m             \u001b[0mresult\u001b[0m \u001b[0;34m=\u001b[0m \u001b[0mself\u001b[0m\u001b[0;34m.\u001b[0m\u001b[0mreindex\u001b[0m\u001b[0;34m(\u001b[0m\u001b[0;34m**\u001b[0m\u001b[0;34m{\u001b[0m\u001b[0maxis_name\u001b[0m\u001b[0;34m:\u001b[0m \u001b[0mnew_axis\u001b[0m\u001b[0;34m}\u001b[0m\u001b[0;34m)\u001b[0m\u001b[0;34m\u001b[0m\u001b[0;34m\u001b[0m\u001b[0m\n\u001b[1;32m   3972\u001b[0m \u001b[0;34m\u001b[0m\u001b[0m\n",
            "\u001b[0;32m/usr/local/lib/python3.6/dist-packages/pandas/core/indexes/base.py\u001b[0m in \u001b[0;36mdrop\u001b[0;34m(self, labels, errors)\u001b[0m\n\u001b[1;32m   5015\u001b[0m         \u001b[0;32mif\u001b[0m \u001b[0mmask\u001b[0m\u001b[0;34m.\u001b[0m\u001b[0many\u001b[0m\u001b[0;34m(\u001b[0m\u001b[0;34m)\u001b[0m\u001b[0;34m:\u001b[0m\u001b[0;34m\u001b[0m\u001b[0;34m\u001b[0m\u001b[0m\n\u001b[1;32m   5016\u001b[0m             \u001b[0;32mif\u001b[0m \u001b[0merrors\u001b[0m \u001b[0;34m!=\u001b[0m \u001b[0;34m\"ignore\"\u001b[0m\u001b[0;34m:\u001b[0m\u001b[0;34m\u001b[0m\u001b[0;34m\u001b[0m\u001b[0m\n\u001b[0;32m-> 5017\u001b[0;31m                 \u001b[0;32mraise\u001b[0m \u001b[0mKeyError\u001b[0m\u001b[0;34m(\u001b[0m\u001b[0;34mf\"{labels[mask]} not found in axis\"\u001b[0m\u001b[0;34m)\u001b[0m\u001b[0;34m\u001b[0m\u001b[0;34m\u001b[0m\u001b[0m\n\u001b[0m\u001b[1;32m   5018\u001b[0m             \u001b[0mindexer\u001b[0m \u001b[0;34m=\u001b[0m \u001b[0mindexer\u001b[0m\u001b[0;34m[\u001b[0m\u001b[0;34m~\u001b[0m\u001b[0mmask\u001b[0m\u001b[0;34m]\u001b[0m\u001b[0;34m\u001b[0m\u001b[0;34m\u001b[0m\u001b[0m\n\u001b[1;32m   5019\u001b[0m         \u001b[0;32mreturn\u001b[0m \u001b[0mself\u001b[0m\u001b[0;34m.\u001b[0m\u001b[0mdelete\u001b[0m\u001b[0;34m(\u001b[0m\u001b[0mindexer\u001b[0m\u001b[0;34m)\u001b[0m\u001b[0;34m\u001b[0m\u001b[0;34m\u001b[0m\u001b[0m\n",
            "\u001b[0;31mKeyError\u001b[0m: \"['STATEFP' 'HPSAShortage' 'HPSAServedPop' 'HPSAUnderservedPop'\\n 'mortality2015-17Estimated'] not found in axis\""
          ]
        }
      ]
    },
    {
      "cell_type": "code",
      "metadata": {
        "id": "lA2hsWnZAZa3"
      },
      "source": [
        "#time data for California\n",
        "cali_time = time_clean[time_clean['state'] == 'California']\n",
        "florida_time = time_clean[time_clean['state'] == 'Florida']\n",
        "\n",
        "#Number of days since the first case in the time data\n",
        "cali_time['# days since first case'] = np.zeros(cali_time.shape[0])\n",
        "florida_time['# days since first case'] = np.zeros(florida_time.shape[0])\n",
        "\n",
        "for i in cali_time['county'].unique():\n",
        "    cali_time.loc[cali_time['county'] == i, ['# days since first case']] = [i + 1 for i in range(0, cali_time.loc[cali_time['county'] == i].shape[0])]\n",
        "\n",
        "for i in florida_time['county'].unique():\n",
        "    florida_time.loc[florida_time['county'] == i, ['# days since first case']] = [i + 1 for i in range(0, florida_time.loc[florida_time['county'] == i].shape[0])]\n",
        "\n",
        "#join together time series and county data based on county for California\n",
        "cali_covid = cali_clean.set_index('CountyName').join(cali_time.set_index('county'))\n",
        "florida_covid = florida_clean.set_index('CountyName').join(florida_time.set_index('county'))\n",
        "\n",
        "#cleanincovid\n",
        "cali_so_clean_covid = cali_is_so_clean.set_index('CountyName').join(cali_time.set_index('county'))\n",
        "florida_so_clean_covid = florida_is_so_clean.set_index('CountyName').join(florida_time.set_index('county'))\n",
        "\n",
        "#soclean but #proportioned\n",
        "cali_so_clean_covid['proportion cases'] = cali_so_clean_covid['cases'] / cali_so_clean_covid['PopulationEstimate2018']\n",
        "cali_so_clean_covid['proportion deaths'] = cali_so_clean_covid['deaths'] / cali_so_clean_covid['PopulationEstimate2018']\n",
        "florida_so_clean_covid['proportion cases'] = florida_so_clean_covid['cases'] / florida_so_clean_covid['PopulationEstimate2018']\n",
        "florida_so_clean_covid['proportion deaths'] = florida_so_clean_covid['deaths'] / florida_so_clean_covid['PopulationEstimate2018']"
      ],
      "execution_count": null,
      "outputs": []
    },
    {
      "cell_type": "code",
      "metadata": {
        "id": "uvs0htwW5zlB"
      },
      "source": [
        "#clean Pennsylvania data, drop columns with NA values\n",
        "penn_clean = df_clean_county[df_clean_county['State'] == 'Pennsylvania'].drop(['STATEFP', 'State', 'HPSAShortage', 'HPSAServedPop', 'HPSAUnderservedPop', 'mortality2015-17Estimated', 'federal guidelines', 'foreign travel ban'], axis = 1)\n",
        "penn_time = time_clean[time_clean['state'] == 'Pennsylvania']\n",
        "\n",
        "# Add number of days since first case\n",
        "penn_time['# days since first case'] = np.zeros(penn_time.shape[0])\n",
        "for i in penn_time['county'].unique():\n",
        "    penn_time.loc[penn_time['county'] == i, ['# days since first case']] = [i + 1 for i in range(0, penn_time.loc[penn_time['county'] == i].shape[0])]\n",
        "\n",
        "penn_covid = penn_clean.set_index('CountyName').join(penn_time.set_index('county'))\n",
        "\n",
        "#create new column\n",
        "penn_covid['proportion cases by stay'] = (penn_covid.groupby('stay at home')['cases'].transform('sum'))/(penn_covid.groupby('stay at home')['PopulationEstimate2018'].transform('sum'))"
      ],
      "execution_count": null,
      "outputs": []
    },
    {
      "cell_type": "markdown",
      "metadata": {
        "id": "1XuWHEqRyflI"
      },
      "source": [
        "# Visualizations"
      ]
    },
    {
      "cell_type": "code",
      "metadata": {
        "id": "zc8QBWfmcagk"
      },
      "source": [
        "#GRAPHS!!!yay\n",
        "#(penn_covid.groupby('stay at home')['cases'].transform('sum')).unique()#/(penn_covid.groupby('stay at home')['PopulationEstimate2018'].transform('sum'))"
      ],
      "execution_count": null,
      "outputs": []
    },
    {
      "cell_type": "code",
      "metadata": {
        "id": "I_KeXVmbVDGh",
        "outputId": "1e9a77ca-3232-4c47-acf7-49ceee114b1a",
        "colab": {
          "base_uri": "https://localhost:8080/",
          "height": 513
        }
      },
      "source": [
        "# Visual of number of cases for top largest counties in California (by population)\n",
        "top_ten = big_df.loc[big_df['state'] == 'California'].sort_values(by = 'PopulationEstimate2018', ascending = False)['county'].unique()[0:10]\n",
        "\n",
        "plt.figure(figsize=(10, 8))\n",
        "for i in top_ten:\n",
        "    curr = big_df.loc[(big_df['county'] == i) & (big_df['state'] == 'California')]\n",
        "    plt.plot(curr['# days since first case'], curr['proportion cases'], label = i);\n",
        "    \n",
        "plt.legend()\n",
        "plt.title('Number of Cases for the Top 10 Largest Counties in California')\n",
        "plt.ylabel('Number of COVID-19 Cases as a Proportion of the Population')\n",
        "plt.xlabel('Days after 1st Case Detected')\n",
        "plt.savefig('ca_counties_cases.png')"
      ],
      "execution_count": null,
      "outputs": [
        {
          "output_type": "display_data",
          "data": {
            "image/png": "[encoded data removed]",
            "text/plain": [
              "<Figure size 720x576 with 1 Axes>"
            ]
          },
          "metadata": {
            "tags": [],
            "needs_background": "light"
          }
        }
      ]
    },
    {
      "cell_type": "code",
      "metadata": {
        "id": "DTd3vfc1zUZp",
        "outputId": "3634895d-9329-4347-8cf9-3a18cb6f4a2d",
        "colab": {
          "base_uri": "https://localhost:8080/",
          "height": 531
        }
      },
      "source": [
        "grouped_df = big_df.groupby('county').max()\n",
        "\n",
        "plt.figure(figsize=(10, 8))\n",
        "plt.bar(grouped_df['stay at home'], grouped_df['proportion cases'])\n",
        "plt.title('Proportion of Cases Across CA, FL, and PA Counties vs When Stay At Home Orders Were Enacted')\n",
        "plt.xlabel('Number of Days after 1st Stay at Home Order is Enacted')\n",
        "plt.ylabel('Proportion of Population that has tested positive for COVID-19')"
      ],
      "execution_count": null,
      "outputs": [
        {
          "output_type": "execute_result",
          "data": {
            "text/plain": [
              "Text(0, 0.5, 'Proportion of Population that has tested positive for COVID-19')"
            ]
          },
          "metadata": {
            "tags": []
          },
          "execution_count": 29
        },
        {
          "output_type": "display_data",
          "data": {
            "image/png": "[encoded data removed]",
            "text/plain": [
              "<Figure size 720x576 with 1 Axes>"
            ]
          },
          "metadata": {
            "tags": [],
            "needs_background": "light"
          }
        }
      ]
    },
    {
      "cell_type": "code",
      "metadata": {
        "id": "tNbloROTxXfC",
        "outputId": "497226fa-355d-44d9-85d0-962bcbfaecf5",
        "colab": {
          "base_uri": "https://localhost:8080/",
          "height": 453
        }
      },
      "source": [
        "#random 10 counties, florida, sorted\n",
        "random_ten = big_df.loc[big_df['state'] == 'Florida']['county'].sample(10)\n",
        "florida_random_sorted = big_df.loc[(big_df['county'].isin(random_ten)) & (big_df['state'] == 'Florida')].sort_values(by=['dem_to_rep_ratio'])\n",
        "florida_random_sorted = florida_random_sorted.groupby('county').max().reset_index()\n",
        "florida_random_sorted"
      ],
      "execution_count": null,
      "outputs": [
        {
          "output_type": "execute_result",
          "data": {
            "text/html": [
              "<div>\n",
              "<style scoped>\n",
              "    .dataframe tbody tr th:only-of-type {\n",
              "        vertical-align: middle;\n",
              "    }\n",
              "\n",
              "    .dataframe tbody tr th {\n",
              "        vertical-align: top;\n",
              "    }\n",
              "\n",
              "    .dataframe thead th {\n",
              "        text-align: right;\n",
              "    }\n",
              "</style>\n",
              "<table border=\"1\" class=\"dataframe\">\n",
              "  <thead>\n",
              "    <tr style=\"text-align: right;\">\n",
              "      <th></th>\n",
              "      <th>county</th>\n",
              "      <th>state</th>\n",
              "      <th>#EligibleforMedicare2018</th>\n",
              "      <th>MedicareEnrollment,AgedTot2017</th>\n",
              "      <th>#FTEHospitalTotal2017</th>\n",
              "      <th>TotalM.D.'s,TotNon-FedandFed2017</th>\n",
              "      <th>#HospParticipatinginNetwork2017</th>\n",
              "      <th>#Hospitals</th>\n",
              "      <th>#ICU_beds</th>\n",
              "      <th>dem_to_rep_ratio</th>\n",
              "      <th>stay at home</th>\n",
              "      <th>&gt;50 gatherings</th>\n",
              "      <th>&gt;500 gatherings</th>\n",
              "      <th>public schools</th>\n",
              "      <th>restaurant dine-in</th>\n",
              "      <th>entertainment/gym</th>\n",
              "      <th>federal guidelines</th>\n",
              "      <th>foreign travel ban</th>\n",
              "      <th>SVIPercentile</th>\n",
              "      <th>PopulationEstimate2018</th>\n",
              "      <th>date</th>\n",
              "      <th>cases</th>\n",
              "      <th>deaths</th>\n",
              "      <th># days since first case</th>\n",
              "      <th>proportion deaths</th>\n",
              "      <th>proportion cases</th>\n",
              "    </tr>\n",
              "  </thead>\n",
              "  <tbody>\n",
              "    <tr>\n",
              "      <th>0</th>\n",
              "      <td>Alachua</td>\n",
              "      <td>Florida</td>\n",
              "      <td>45942.0</td>\n",
              "      <td>35453.0</td>\n",
              "      <td>14498.0</td>\n",
              "      <td>2978.0</td>\n",
              "      <td>0.0</td>\n",
              "      <td>2.0</td>\n",
              "      <td>210.0</td>\n",
              "      <td>1.618909</td>\n",
              "      <td>737509.0</td>\n",
              "      <td>737501.0</td>\n",
              "      <td>737501.0</td>\n",
              "      <td>737500.0</td>\n",
              "      <td>737504.0</td>\n",
              "      <td>737504.0</td>\n",
              "      <td>737500.0</td>\n",
              "      <td>737495.0</td>\n",
              "      <td>0.4729</td>\n",
              "      <td>269956.0</td>\n",
              "      <td>2020-05-13</td>\n",
              "      <td>326</td>\n",
              "      <td>5</td>\n",
              "      <td>65.0</td>\n",
              "      <td>0.000019</td>\n",
              "      <td>0.001208</td>\n",
              "    </tr>\n",
              "    <tr>\n",
              "      <th>1</th>\n",
              "      <td>Bay</td>\n",
              "      <td>Florida</td>\n",
              "      <td>40969.0</td>\n",
              "      <td>30400.0</td>\n",
              "      <td>2768.0</td>\n",
              "      <td>448.0</td>\n",
              "      <td>0.0</td>\n",
              "      <td>2.0</td>\n",
              "      <td>77.0</td>\n",
              "      <td>0.350468</td>\n",
              "      <td>737518.0</td>\n",
              "      <td>737501.0</td>\n",
              "      <td>737501.0</td>\n",
              "      <td>737500.0</td>\n",
              "      <td>737504.0</td>\n",
              "      <td>737504.0</td>\n",
              "      <td>737500.0</td>\n",
              "      <td>737495.0</td>\n",
              "      <td>0.6076</td>\n",
              "      <td>185287.0</td>\n",
              "      <td>2020-05-13</td>\n",
              "      <td>77</td>\n",
              "      <td>3</td>\n",
              "      <td>54.0</td>\n",
              "      <td>0.000016</td>\n",
              "      <td>0.000416</td>\n",
              "    </tr>\n",
              "    <tr>\n",
              "      <th>2</th>\n",
              "      <td>Hamilton</td>\n",
              "      <td>Florida</td>\n",
              "      <td>3066.0</td>\n",
              "      <td>2231.0</td>\n",
              "      <td>0.0</td>\n",
              "      <td>3.0</td>\n",
              "      <td>0.0</td>\n",
              "      <td>0.0</td>\n",
              "      <td>0.0</td>\n",
              "      <td>0.553006</td>\n",
              "      <td>737518.0</td>\n",
              "      <td>737501.0</td>\n",
              "      <td>737501.0</td>\n",
              "      <td>737500.0</td>\n",
              "      <td>737504.0</td>\n",
              "      <td>737504.0</td>\n",
              "      <td>737500.0</td>\n",
              "      <td>737495.0</td>\n",
              "      <td>0.9908</td>\n",
              "      <td>14310.0</td>\n",
              "      <td>2020-05-13</td>\n",
              "      <td>86</td>\n",
              "      <td>0</td>\n",
              "      <td>38.0</td>\n",
              "      <td>0.000000</td>\n",
              "      <td>0.006010</td>\n",
              "    </tr>\n",
              "    <tr>\n",
              "      <th>3</th>\n",
              "      <td>Holmes</td>\n",
              "      <td>Florida</td>\n",
              "      <td>5142.0</td>\n",
              "      <td>3718.0</td>\n",
              "      <td>149.0</td>\n",
              "      <td>15.0</td>\n",
              "      <td>0.0</td>\n",
              "      <td>1.0</td>\n",
              "      <td>0.0</td>\n",
              "      <td>0.113992</td>\n",
              "      <td>737518.0</td>\n",
              "      <td>737501.0</td>\n",
              "      <td>737501.0</td>\n",
              "      <td>737500.0</td>\n",
              "      <td>737504.0</td>\n",
              "      <td>737504.0</td>\n",
              "      <td>737500.0</td>\n",
              "      <td>737495.0</td>\n",
              "      <td>0.9347</td>\n",
              "      <td>19477.0</td>\n",
              "      <td>2020-05-13</td>\n",
              "      <td>10</td>\n",
              "      <td>0</td>\n",
              "      <td>45.0</td>\n",
              "      <td>0.000000</td>\n",
              "      <td>0.000513</td>\n",
              "    </tr>\n",
              "    <tr>\n",
              "      <th>4</th>\n",
              "      <td>Jefferson</td>\n",
              "      <td>Florida</td>\n",
              "      <td>3750.0</td>\n",
              "      <td>2918.0</td>\n",
              "      <td>0.0</td>\n",
              "      <td>9.0</td>\n",
              "      <td>0.0</td>\n",
              "      <td>0.0</td>\n",
              "      <td>0.0</td>\n",
              "      <td>0.901018</td>\n",
              "      <td>737518.0</td>\n",
              "      <td>737501.0</td>\n",
              "      <td>737501.0</td>\n",
              "      <td>737500.0</td>\n",
              "      <td>737504.0</td>\n",
              "      <td>737504.0</td>\n",
              "      <td>737500.0</td>\n",
              "      <td>737495.0</td>\n",
              "      <td>0.5748</td>\n",
              "      <td>14288.0</td>\n",
              "      <td>2020-05-13</td>\n",
              "      <td>28</td>\n",
              "      <td>2</td>\n",
              "      <td>40.0</td>\n",
              "      <td>0.000140</td>\n",
              "      <td>0.001960</td>\n",
              "    </tr>\n",
              "    <tr>\n",
              "      <th>5</th>\n",
              "      <td>Liberty</td>\n",
              "      <td>Florida</td>\n",
              "      <td>1439.0</td>\n",
              "      <td>1007.0</td>\n",
              "      <td>0.0</td>\n",
              "      <td>0.0</td>\n",
              "      <td>0.0</td>\n",
              "      <td>0.0</td>\n",
              "      <td>0.0</td>\n",
              "      <td>0.255997</td>\n",
              "      <td>737518.0</td>\n",
              "      <td>737501.0</td>\n",
              "      <td>737501.0</td>\n",
              "      <td>737500.0</td>\n",
              "      <td>737504.0</td>\n",
              "      <td>737504.0</td>\n",
              "      <td>737500.0</td>\n",
              "      <td>737495.0</td>\n",
              "      <td>0.8334</td>\n",
              "      <td>8457.0</td>\n",
              "      <td>2020-05-13</td>\n",
              "      <td>198</td>\n",
              "      <td>0</td>\n",
              "      <td>34.0</td>\n",
              "      <td>0.000000</td>\n",
              "      <td>0.023413</td>\n",
              "    </tr>\n",
              "    <tr>\n",
              "      <th>6</th>\n",
              "      <td>Madison</td>\n",
              "      <td>Florida</td>\n",
              "      <td>4544.0</td>\n",
              "      <td>3361.0</td>\n",
              "      <td>138.0</td>\n",
              "      <td>9.0</td>\n",
              "      <td>0.0</td>\n",
              "      <td>1.0</td>\n",
              "      <td>0.0</td>\n",
              "      <td>0.726860</td>\n",
              "      <td>737518.0</td>\n",
              "      <td>737501.0</td>\n",
              "      <td>737501.0</td>\n",
              "      <td>737500.0</td>\n",
              "      <td>737504.0</td>\n",
              "      <td>737504.0</td>\n",
              "      <td>737500.0</td>\n",
              "      <td>737495.0</td>\n",
              "      <td>0.9608</td>\n",
              "      <td>18529.0</td>\n",
              "      <td>2020-05-13</td>\n",
              "      <td>61</td>\n",
              "      <td>3</td>\n",
              "      <td>43.0</td>\n",
              "      <td>0.000162</td>\n",
              "      <td>0.003292</td>\n",
              "    </tr>\n",
              "    <tr>\n",
              "      <th>7</th>\n",
              "      <td>Marion</td>\n",
              "      <td>Florida</td>\n",
              "      <td>120523.0</td>\n",
              "      <td>94424.0</td>\n",
              "      <td>4908.0</td>\n",
              "      <td>804.0</td>\n",
              "      <td>0.0</td>\n",
              "      <td>2.0</td>\n",
              "      <td>110.0</td>\n",
              "      <td>0.575343</td>\n",
              "      <td>737518.0</td>\n",
              "      <td>737501.0</td>\n",
              "      <td>737501.0</td>\n",
              "      <td>737500.0</td>\n",
              "      <td>737504.0</td>\n",
              "      <td>737504.0</td>\n",
              "      <td>737500.0</td>\n",
              "      <td>737495.0</td>\n",
              "      <td>0.7535</td>\n",
              "      <td>359977.0</td>\n",
              "      <td>2020-05-13</td>\n",
              "      <td>217</td>\n",
              "      <td>5</td>\n",
              "      <td>54.0</td>\n",
              "      <td>0.000014</td>\n",
              "      <td>0.000603</td>\n",
              "    </tr>\n",
              "    <tr>\n",
              "      <th>8</th>\n",
              "      <td>Okaloosa</td>\n",
              "      <td>Florida</td>\n",
              "      <td>42952.0</td>\n",
              "      <td>32907.0</td>\n",
              "      <td>2691.0</td>\n",
              "      <td>613.0</td>\n",
              "      <td>1.0</td>\n",
              "      <td>3.0</td>\n",
              "      <td>57.0</td>\n",
              "      <td>0.330769</td>\n",
              "      <td>737518.0</td>\n",
              "      <td>737501.0</td>\n",
              "      <td>737501.0</td>\n",
              "      <td>737500.0</td>\n",
              "      <td>737504.0</td>\n",
              "      <td>737504.0</td>\n",
              "      <td>737500.0</td>\n",
              "      <td>737495.0</td>\n",
              "      <td>0.3860</td>\n",
              "      <td>207269.0</td>\n",
              "      <td>2020-05-13</td>\n",
              "      <td>169</td>\n",
              "      <td>5</td>\n",
              "      <td>68.0</td>\n",
              "      <td>0.000024</td>\n",
              "      <td>0.000815</td>\n",
              "    </tr>\n",
              "    <tr>\n",
              "      <th>9</th>\n",
              "      <td>Suwannee</td>\n",
              "      <td>Florida</td>\n",
              "      <td>11787.0</td>\n",
              "      <td>8932.0</td>\n",
              "      <td>177.0</td>\n",
              "      <td>25.0</td>\n",
              "      <td>0.0</td>\n",
              "      <td>1.0</td>\n",
              "      <td>0.0</td>\n",
              "      <td>0.277455</td>\n",
              "      <td>737518.0</td>\n",
              "      <td>737501.0</td>\n",
              "      <td>737501.0</td>\n",
              "      <td>737500.0</td>\n",
              "      <td>737504.0</td>\n",
              "      <td>737504.0</td>\n",
              "      <td>737500.0</td>\n",
              "      <td>737495.0</td>\n",
              "      <td>0.9424</td>\n",
              "      <td>44191.0</td>\n",
              "      <td>2020-05-13</td>\n",
              "      <td>149</td>\n",
              "      <td>18</td>\n",
              "      <td>48.0</td>\n",
              "      <td>0.000407</td>\n",
              "      <td>0.003372</td>\n",
              "    </tr>\n",
              "  </tbody>\n",
              "</table>\n",
              "</div>"
            ],
            "text/plain": [
              "      county    state  ...  proportion deaths  proportion cases\n",
              "0    Alachua  Florida  ...           0.000019          0.001208\n",
              "1        Bay  Florida  ...           0.000016          0.000416\n",
              "2   Hamilton  Florida  ...           0.000000          0.006010\n",
              "3     Holmes  Florida  ...           0.000000          0.000513\n",
              "4  Jefferson  Florida  ...           0.000140          0.001960\n",
              "5    Liberty  Florida  ...           0.000000          0.023413\n",
              "6    Madison  Florida  ...           0.000162          0.003292\n",
              "7     Marion  Florida  ...           0.000014          0.000603\n",
              "8   Okaloosa  Florida  ...           0.000024          0.000815\n",
              "9   Suwannee  Florida  ...           0.000407          0.003372\n",
              "\n",
              "[10 rows x 26 columns]"
            ]
          },
          "metadata": {
            "tags": []
          },
          "execution_count": 12
        }
      ]
    },
    {
      "cell_type": "code",
      "metadata": {
        "id": "E3HcT6CFu1ru",
        "outputId": "f55ba47d-72d6-4b52-cb9a-954a6f97fce7",
        "colab": {
          "base_uri": "https://localhost:8080/",
          "height": 475
        }
      },
      "source": [
        "#plotting florida_random_sorted - shows us dem to rep on a graph w proportion of cases\n",
        "\n",
        "# FROM ELLESE: I changed the proportion of cases to a bar graph. The reason it looked strange as a line graph was because a point\n",
        "# was being plotted for every single day for that county. Instead I took the number of cases from the most recent day and plotted that\n",
        "# You can choose if you want to do that for the california graph as well. \n",
        "\n",
        "# Also I slightly modified the code to get 10 random counties to use the dataframe I made to consolidate data cleaning\n",
        "\n",
        "fig, ax1 = plt.subplots(figsize=(8, 6))\n",
        "\n",
        "color = 'tab:pink'\n",
        "ax1.set_xlabel('County')\n",
        "ax1.set_ylabel('Proporition of COVID-19 Cases', color=color)\n",
        "ax1.bar(florida_random_sorted['county'], florida_random_sorted['proportion cases'], color=color, alpha = 0.75)\n",
        "ax1.tick_params(axis='y', labelcolor=color)\n",
        "plt.xticks(rotation=90)\n",
        "\n",
        "ax2 = ax1.twinx()  \n",
        "\n",
        "color = 'tab:blue'\n",
        "ax2.set_ylabel('Democrat to Republican Ratio', color=color)  \n",
        "ax2.plot(florida_random_sorted['county'], florida_random_sorted['dem_to_rep_ratio'], color=color)\n",
        "ax2.tick_params(axis='y', labelcolor=color)\n",
        "\n",
        "fig.tight_layout() \n",
        "plt.title('Comparing Political Party Affliation to COVID-19 Cases in Florida Counties') \n",
        "plt.show()\n",
        "plt.savefig('dem_rep.png')\n"
      ],
      "execution_count": null,
      "outputs": [
        {
          "output_type": "display_data",
          "data": {
            "image/png": "[encoded data removed]",
            "text/plain": [
              "<Figure size 576x432 with 2 Axes>"
            ]
          },
          "metadata": {
            "tags": []
          }
        },
        {
          "output_type": "display_data",
          "data": {
            "text/plain": [
              "<Figure size 432x288 with 0 Axes>"
            ]
          },
          "metadata": {
            "tags": []
          }
        }
      ]
    },
    {
      "cell_type": "code",
      "metadata": {
        "id": "JBW9IlHU_rC9",
        "outputId": "d6548a10-b73f-4e5b-ae69-d731e19cdc98",
        "colab": {
          "base_uri": "https://localhost:8080/",
          "height": 297
        }
      },
      "source": [
        "#random 10 counties, florida, sorted\n",
        "warnings.filterwarnings('ignore')\n",
        "random_ten = big_df.loc[big_df['state'] == 'California']['county'].sample(10)\n",
        "california_random_sorted = big_df.loc[(big_df['county'].isin(random_ten)) & (big_df['state'] == 'California')].sort_values(by=['dem_to_rep_ratio'])\n",
        "\n",
        "#plotting florida_random_sorted - shows us dem to rep on a graph w proportion of cases\n",
        "\n",
        "fig, ax1 = plt.subplots()\n",
        "\n",
        "color = 'tab:pink'\n",
        "ax1.set_xlabel('County')\n",
        "ax1.set_ylabel('proportion cases', color=color)\n",
        "ax1.plot(california_random_sorted['county'], california_random_sorted['proportion cases'], color=color,linestyle='dashed')\n",
        "ax1.tick_params(axis='y', labelcolor=color)\n",
        "\n",
        "ax2 = ax1.twinx()  \n",
        "\n",
        "color = 'tab:blue'\n",
        "ax2.set_ylabel('dem_to_rep_ratio', color=color)  \n",
        "ax2.plot(california_random_sorted['county'], california_random_sorted['dem_to_rep_ratio'], color=color)\n",
        "ax2.tick_params(axis='y', labelcolor=color)\n",
        "\n",
        "fig.tight_layout()  \n",
        "\n",
        "plt.show()"
      ],
      "execution_count": null,
      "outputs": [
        {
          "output_type": "display_data",
          "data": {
            "image/png": "[encoded data removed]",
            "text/plain": [
              "<Figure size 432x288 with 2 Axes>"
            ]
          },
          "metadata": {
            "tags": []
          }
        }
      ]
    },
    {
      "cell_type": "code",
      "metadata": {
        "id": "gcRpBkwi55Eo",
        "outputId": "d4768ba2-7cb8-45a0-9655-946f45d259bd",
        "colab": {
          "base_uri": "https://localhost:8080/",
          "height": 698
        }
      },
      "source": [
        "penn_covid = big_df[big_df['county'] == 'Pennsylvania']\n",
        "x = penn_covid['stay at home'].unique()\n",
        "y = penn_covid['proportion cases by stay'].unique()\n",
        "\n",
        "x = [datetime.fromordinal(i) for i in penn_stay_dates]\n",
        "\n",
        "y = penn_covid['proportion cases by stay'].unique()\n",
        "plt.figure(figsize=(20,10))\n",
        "plt.bar(x, y)\n",
        "plt.xlabel('State Date of Shelter in Place Order')\n",
        "plt.ylabel('Proportion of Cases')\n",
        "plt.title('Start Date of Stay at Home vs. Proportion of Cases in Pennsylvania')\n"
      ],
      "execution_count": null,
      "outputs": [
        {
          "output_type": "error",
          "ename": "KeyError",
          "evalue": "ignored",
          "traceback": [
            "\u001b[0;31m---------------------------------------------------------------------------\u001b[0m",
            "\u001b[0;31mKeyError\u001b[0m                                  Traceback (most recent call last)",
            "\u001b[0;32m/usr/local/lib/python3.6/dist-packages/pandas/core/indexes/base.py\u001b[0m in \u001b[0;36mget_loc\u001b[0;34m(self, key, method, tolerance)\u001b[0m\n\u001b[1;32m   2645\u001b[0m             \u001b[0;32mtry\u001b[0m\u001b[0;34m:\u001b[0m\u001b[0;34m\u001b[0m\u001b[0;34m\u001b[0m\u001b[0m\n\u001b[0;32m-> 2646\u001b[0;31m                 \u001b[0;32mreturn\u001b[0m \u001b[0mself\u001b[0m\u001b[0;34m.\u001b[0m\u001b[0m_engine\u001b[0m\u001b[0;34m.\u001b[0m\u001b[0mget_loc\u001b[0m\u001b[0;34m(\u001b[0m\u001b[0mkey\u001b[0m\u001b[0;34m)\u001b[0m\u001b[0;34m\u001b[0m\u001b[0;34m\u001b[0m\u001b[0m\n\u001b[0m\u001b[1;32m   2647\u001b[0m             \u001b[0;32mexcept\u001b[0m \u001b[0mKeyError\u001b[0m\u001b[0;34m:\u001b[0m\u001b[0;34m\u001b[0m\u001b[0;34m\u001b[0m\u001b[0m\n",
            "\u001b[0;32mpandas/_libs/index.pyx\u001b[0m in \u001b[0;36mpandas._libs.index.IndexEngine.get_loc\u001b[0;34m()\u001b[0m\n",
            "\u001b[0;32mpandas/_libs/index.pyx\u001b[0m in \u001b[0;36mpandas._libs.index.IndexEngine.get_loc\u001b[0;34m()\u001b[0m\n",
            "\u001b[0;32mpandas/_libs/hashtable_class_helper.pxi\u001b[0m in \u001b[0;36mpandas._libs.hashtable.PyObjectHashTable.get_item\u001b[0;34m()\u001b[0m\n",
            "\u001b[0;32mpandas/_libs/hashtable_class_helper.pxi\u001b[0m in \u001b[0;36mpandas._libs.hashtable.PyObjectHashTable.get_item\u001b[0;34m()\u001b[0m\n",
            "\u001b[0;31mKeyError\u001b[0m: 'proportion cases by stay'",
            "\nDuring handling of the above exception, another exception occurred:\n",
            "\u001b[0;31mKeyError\u001b[0m                                  Traceback (most recent call last)",
            "\u001b[0;32m<ipython-input-44-27a069d3f2d4>\u001b[0m in \u001b[0;36m<module>\u001b[0;34m()\u001b[0m\n\u001b[1;32m      1\u001b[0m \u001b[0mpenn_covid\u001b[0m \u001b[0;34m=\u001b[0m \u001b[0mbig_df\u001b[0m\u001b[0;34m[\u001b[0m\u001b[0mbig_df\u001b[0m\u001b[0;34m[\u001b[0m\u001b[0;34m'county'\u001b[0m\u001b[0;34m]\u001b[0m \u001b[0;34m==\u001b[0m \u001b[0;34m'Pennsylvania'\u001b[0m\u001b[0;34m]\u001b[0m\u001b[0;34m\u001b[0m\u001b[0;34m\u001b[0m\u001b[0m\n\u001b[1;32m      2\u001b[0m \u001b[0mx\u001b[0m \u001b[0;34m=\u001b[0m \u001b[0mpenn_covid\u001b[0m\u001b[0;34m[\u001b[0m\u001b[0;34m'stay at home'\u001b[0m\u001b[0;34m]\u001b[0m\u001b[0;34m.\u001b[0m\u001b[0munique\u001b[0m\u001b[0;34m(\u001b[0m\u001b[0;34m)\u001b[0m\u001b[0;34m\u001b[0m\u001b[0;34m\u001b[0m\u001b[0m\n\u001b[0;32m----> 3\u001b[0;31m \u001b[0my\u001b[0m \u001b[0;34m=\u001b[0m \u001b[0mpenn_covid\u001b[0m\u001b[0;34m[\u001b[0m\u001b[0;34m'proportion cases by stay'\u001b[0m\u001b[0;34m]\u001b[0m\u001b[0;34m.\u001b[0m\u001b[0munique\u001b[0m\u001b[0;34m(\u001b[0m\u001b[0;34m)\u001b[0m\u001b[0;34m\u001b[0m\u001b[0;34m\u001b[0m\u001b[0m\n\u001b[0m\u001b[1;32m      4\u001b[0m \u001b[0;34m\u001b[0m\u001b[0m\n\u001b[1;32m      5\u001b[0m \u001b[0mx\u001b[0m \u001b[0;34m=\u001b[0m \u001b[0;34m[\u001b[0m\u001b[0mdatetime\u001b[0m\u001b[0;34m.\u001b[0m\u001b[0mfromordinal\u001b[0m\u001b[0;34m(\u001b[0m\u001b[0mi\u001b[0m\u001b[0;34m)\u001b[0m \u001b[0;32mfor\u001b[0m \u001b[0mi\u001b[0m \u001b[0;32min\u001b[0m \u001b[0mpenn_stay_dates\u001b[0m\u001b[0;34m]\u001b[0m\u001b[0;34m\u001b[0m\u001b[0;34m\u001b[0m\u001b[0m\n",
            "\u001b[0;32m/usr/local/lib/python3.6/dist-packages/pandas/core/frame.py\u001b[0m in \u001b[0;36m__getitem__\u001b[0;34m(self, key)\u001b[0m\n\u001b[1;32m   2798\u001b[0m             \u001b[0;32mif\u001b[0m \u001b[0mself\u001b[0m\u001b[0;34m.\u001b[0m\u001b[0mcolumns\u001b[0m\u001b[0;34m.\u001b[0m\u001b[0mnlevels\u001b[0m \u001b[0;34m>\u001b[0m \u001b[0;36m1\u001b[0m\u001b[0;34m:\u001b[0m\u001b[0;34m\u001b[0m\u001b[0;34m\u001b[0m\u001b[0m\n\u001b[1;32m   2799\u001b[0m                 \u001b[0;32mreturn\u001b[0m \u001b[0mself\u001b[0m\u001b[0;34m.\u001b[0m\u001b[0m_getitem_multilevel\u001b[0m\u001b[0;34m(\u001b[0m\u001b[0mkey\u001b[0m\u001b[0;34m)\u001b[0m\u001b[0;34m\u001b[0m\u001b[0;34m\u001b[0m\u001b[0m\n\u001b[0;32m-> 2800\u001b[0;31m             \u001b[0mindexer\u001b[0m \u001b[0;34m=\u001b[0m \u001b[0mself\u001b[0m\u001b[0;34m.\u001b[0m\u001b[0mcolumns\u001b[0m\u001b[0;34m.\u001b[0m\u001b[0mget_loc\u001b[0m\u001b[0;34m(\u001b[0m\u001b[0mkey\u001b[0m\u001b[0;34m)\u001b[0m\u001b[0;34m\u001b[0m\u001b[0;34m\u001b[0m\u001b[0m\n\u001b[0m\u001b[1;32m   2801\u001b[0m             \u001b[0;32mif\u001b[0m \u001b[0mis_integer\u001b[0m\u001b[0;34m(\u001b[0m\u001b[0mindexer\u001b[0m\u001b[0;34m)\u001b[0m\u001b[0;34m:\u001b[0m\u001b[0;34m\u001b[0m\u001b[0;34m\u001b[0m\u001b[0m\n\u001b[1;32m   2802\u001b[0m                 \u001b[0mindexer\u001b[0m \u001b[0;34m=\u001b[0m \u001b[0;34m[\u001b[0m\u001b[0mindexer\u001b[0m\u001b[0;34m]\u001b[0m\u001b[0;34m\u001b[0m\u001b[0;34m\u001b[0m\u001b[0m\n",
            "\u001b[0;32m/usr/local/lib/python3.6/dist-packages/pandas/core/indexes/base.py\u001b[0m in \u001b[0;36mget_loc\u001b[0;34m(self, key, method, tolerance)\u001b[0m\n\u001b[1;32m   2646\u001b[0m                 \u001b[0;32mreturn\u001b[0m \u001b[0mself\u001b[0m\u001b[0;34m.\u001b[0m\u001b[0m_engine\u001b[0m\u001b[0;34m.\u001b[0m\u001b[0mget_loc\u001b[0m\u001b[0;34m(\u001b[0m\u001b[0mkey\u001b[0m\u001b[0;34m)\u001b[0m\u001b[0;34m\u001b[0m\u001b[0;34m\u001b[0m\u001b[0m\n\u001b[1;32m   2647\u001b[0m             \u001b[0;32mexcept\u001b[0m \u001b[0mKeyError\u001b[0m\u001b[0;34m:\u001b[0m\u001b[0;34m\u001b[0m\u001b[0;34m\u001b[0m\u001b[0m\n\u001b[0;32m-> 2648\u001b[0;31m                 \u001b[0;32mreturn\u001b[0m \u001b[0mself\u001b[0m\u001b[0;34m.\u001b[0m\u001b[0m_engine\u001b[0m\u001b[0;34m.\u001b[0m\u001b[0mget_loc\u001b[0m\u001b[0;34m(\u001b[0m\u001b[0mself\u001b[0m\u001b[0;34m.\u001b[0m\u001b[0m_maybe_cast_indexer\u001b[0m\u001b[0;34m(\u001b[0m\u001b[0mkey\u001b[0m\u001b[0;34m)\u001b[0m\u001b[0;34m)\u001b[0m\u001b[0;34m\u001b[0m\u001b[0;34m\u001b[0m\u001b[0m\n\u001b[0m\u001b[1;32m   2649\u001b[0m         \u001b[0mindexer\u001b[0m \u001b[0;34m=\u001b[0m \u001b[0mself\u001b[0m\u001b[0;34m.\u001b[0m\u001b[0mget_indexer\u001b[0m\u001b[0;34m(\u001b[0m\u001b[0;34m[\u001b[0m\u001b[0mkey\u001b[0m\u001b[0;34m]\u001b[0m\u001b[0;34m,\u001b[0m \u001b[0mmethod\u001b[0m\u001b[0;34m=\u001b[0m\u001b[0mmethod\u001b[0m\u001b[0;34m,\u001b[0m \u001b[0mtolerance\u001b[0m\u001b[0;34m=\u001b[0m\u001b[0mtolerance\u001b[0m\u001b[0;34m)\u001b[0m\u001b[0;34m\u001b[0m\u001b[0;34m\u001b[0m\u001b[0m\n\u001b[1;32m   2650\u001b[0m         \u001b[0;32mif\u001b[0m \u001b[0mindexer\u001b[0m\u001b[0;34m.\u001b[0m\u001b[0mndim\u001b[0m \u001b[0;34m>\u001b[0m \u001b[0;36m1\u001b[0m \u001b[0;32mor\u001b[0m \u001b[0mindexer\u001b[0m\u001b[0;34m.\u001b[0m\u001b[0msize\u001b[0m \u001b[0;34m>\u001b[0m \u001b[0;36m1\u001b[0m\u001b[0;34m:\u001b[0m\u001b[0;34m\u001b[0m\u001b[0;34m\u001b[0m\u001b[0m\n",
            "\u001b[0;32mpandas/_libs/index.pyx\u001b[0m in \u001b[0;36mpandas._libs.index.IndexEngine.get_loc\u001b[0;34m()\u001b[0m\n",
            "\u001b[0;32mpandas/_libs/index.pyx\u001b[0m in \u001b[0;36mpandas._libs.index.IndexEngine.get_loc\u001b[0;34m()\u001b[0m\n",
            "\u001b[0;32mpandas/_libs/hashtable_class_helper.pxi\u001b[0m in \u001b[0;36mpandas._libs.hashtable.PyObjectHashTable.get_item\u001b[0;34m()\u001b[0m\n",
            "\u001b[0;32mpandas/_libs/hashtable_class_helper.pxi\u001b[0m in \u001b[0;36mpandas._libs.hashtable.PyObjectHashTable.get_item\u001b[0;34m()\u001b[0m\n",
            "\u001b[0;31mKeyError\u001b[0m: 'proportion cases by stay'"
          ]
        }
      ]
    },
    {
      "cell_type": "code",
      "metadata": {
        "id": "Wcm70ecsbyFr",
        "outputId": "4dba92a5-035f-40aa-931f-f3324986feac",
        "colab": {
          "base_uri": "https://localhost:8080/",
          "height": 404
        }
      },
      "source": [
        "plt.figure(figsize=(8, 6))\n",
        "sns.distplot(big_df['# days since first case'], axlabel = \"Number of Cumulative Days Since First Case\", color = \"palevioletred\")\n",
        "plt.title('Spread of New Instances of Cases in Counties')\n",
        "plt.savefig('hist.png')"
      ],
      "execution_count": null,
      "outputs": [
        {
          "output_type": "display_data",
          "data": {
            "image/png": "[encoded data removed]",
            "text/plain": [
              "<Figure size 576x432 with 1 Axes>"
            ]
          },
          "metadata": {
            "tags": [],
            "needs_background": "light"
          }
        }
      ]
    },
    {
      "cell_type": "markdown",
      "metadata": {
        "id": "HHGILkTeyYMz"
      },
      "source": [
        "#Models"
      ]
    },
    {
      "cell_type": "markdown",
      "metadata": {
        "id": "gZPalF5Tx-_p"
      },
      "source": [
        "### Linear Regression Model Using `dem_to_rep_ratio`"
      ]
    },
    {
      "cell_type": "code",
      "metadata": {
        "id": "-pVxYtSVyE-O"
      },
      "source": [
        "from sklearn.linear_model import LinearRegression\n",
        "from sklearn.linear_model import LogisticRegression, LogisticRegressionCV\n",
        "import sklearn.model_selection\n",
        "\n",
        "#Calculate the error\n",
        "def rmse(prediction, actual):\n",
        "    return np.sqrt(np.mean((actual - prediction) ** 2))"
      ],
      "execution_count": null,
      "outputs": []
    },
    {
      "cell_type": "code",
      "metadata": {
        "id": "NuBVltsaiNbH",
        "outputId": "a7e6bad4-eb61-404f-8242-98a420daee70",
        "colab": {
          "base_uri": "https://localhost:8080/",
          "height": 54
        }
      },
      "source": [
        "#One simple model: Predicting the number of cases using the dem_to_rep_ratio and Population estimate\n",
        "#Create a dataset that isn't a time series\n",
        "grouped_three = big_df.groupby('county').max().reset_index()\n",
        "lr_model_1_df = grouped_three[['dem_to_rep_ratio', 'proportion cases', 'county']].dropna()\n",
        "#Creating train and test set\n",
        "train, test = sklearn.model_selection.train_test_split(lr_model_1_df, train_size=0.8, test_size=0.2, random_state=42)\n",
        "X_train = train[['dem_to_rep_ratio']]\n",
        "X_test = test[['dem_to_rep_ratio']]\n",
        "Y_train = train['proportion cases']\n",
        "Y_test = test['proportion cases']\n",
        "\n",
        "#A constant model for sake of comparison\n",
        "constant_rmse = rmse(Y_test, np.mean(Y_test))\n",
        "\n",
        "#Fitting our model\n",
        "simple_model = LinearRegression()\n",
        "simple_model.fit(X_train, Y_train)\n",
        "pred = simple_model.predict(X_test)\n",
        "dem_to_rep_rmse = rmse(pred, Y_test)\n",
        "\n",
        "print('RMSE of constant model: {} \\nRMSE of dem_to_rep model {}'.format(constant_rmse, dem_to_rep_rmse))"
      ],
      "execution_count": null,
      "outputs": [
        {
          "output_type": "stream",
          "text": [
            "RMSE of constant model: 0.0015139412921815509 \n",
            "RMSE of dem_to_rep model 0.0016632641690844585\n"
          ],
          "name": "stdout"
        }
      ]
    },
    {
      "cell_type": "code",
      "metadata": {
        "id": "ulIqXnsg57Nv",
        "outputId": "2f16146d-aed9-46fa-dfa9-6aa51b900e31",
        "colab": {
          "base_uri": "https://localhost:8080/",
          "height": 603
        }
      },
      "source": [
        "N = len(Y_test)\n",
        "ind = np.arange(N)\n",
        "width = 0.35\n",
        "\n",
        "fig, ax = plt.subplots(figsize =(15,8))\n",
        "rects1 = ax.bar(ind, Y_test, width, color = 'orange', label = 'Actual')\n",
        "rects2 = ax.bar(ind+width, pred, width, color = 'green', label = 'Prediction')\n",
        "\n",
        "ax.set_ylabel('Cases of COVID-19 as a Proportion of Population')\n",
        "ax.set_title('Comparing Actual Proportions to Linear Regression Predictions')\n",
        "ax.set_xticks(ind + width / 2)\n",
        "ax.set_xticklabels(test['county'], rotation = 90)\n",
        "ax.set_xlabel('Counties for PA, FL, and CA')\n",
        "plt.legend()"
      ],
      "execution_count": null,
      "outputs": [
        {
          "output_type": "execute_result",
          "data": {
            "text/plain": [
              "<matplotlib.legend.Legend at 0x7f30013e0cc0>"
            ]
          },
          "metadata": {
            "tags": []
          },
          "execution_count": 45
        },
        {
          "output_type": "display_data",
          "data": {
            "image/png": "[encoded data removed]",
            "text/plain": [
              "<Figure size 1080x576 with 1 Axes>"
            ]
          },
          "metadata": {
            "tags": [],
            "needs_background": "light"
          }
        }
      ]
    },
    {
      "cell_type": "markdown",
      "metadata": {
        "id": "4h51UKDJv0-4"
      },
      "source": [
        "This  model we used just 1 feature, namely `dem_to_rep_ratio` which represents the ration between Democrats and Republicans in a particular county. We are interested in seeing if political affiliations play a role in the number of cases that a county sees. Comparing the RMSEs between our constant model and that which uses `dem_to_rep_ratio`, we unfortunately get a smaller RMSE with our constant model. Looking at the graph, our model predicts somewhat similar values for all counties. Namely, Clearfield and Huntingdon counties have drastic differences in the number of cases but our model only predicts nearly the same proportion for both counties."
      ]
    },
    {
      "cell_type": "code",
      "metadata": {
        "id": "DG6iGKG-E3ro",
        "outputId": "8e6b7bf1-d850-4808-ba36-503b6233a3df",
        "colab": {
          "base_uri": "https://localhost:8080/",
          "height": 54
        }
      },
      "source": [
        "grouped_three.columns\n",
        "lr_model_2_df = grouped_three[['stay at home', '>50 gatherings', '>500 gatherings',\n",
        "       'public schools', 'restaurant dine-in', 'entertainment/gym', 'cases', 'PopulationEstimate2018', 'county', 'proportion cases']].dropna()\n",
        "\n",
        "train, test = sklearn.model_selection.train_test_split(lr_model_2_df, train_size=0.8, test_size=0.2, random_state=42)\n",
        "X_train = train[['stay at home', 'PopulationEstimate2018', '>50 gatherings']]\n",
        "X_test = test[['stay at home', 'PopulationEstimate2018', '>50 gatherings']]\n",
        "Y_train = train['cases']\n",
        "Y_test = test['cases']\n",
        "\n",
        "#A constant model for sake of comparison\n",
        "constant_rmse = rmse(Y_test, np.mean(Y_test))\n",
        "\n",
        "#Fitting our model\n",
        "social_distancing_model = LinearRegression()\n",
        "social_distancing_model.fit(X_train, Y_train)\n",
        "pred = social_distancing_model.predict(X_test)\n",
        "\n",
        "social_distancing_rmse = rmse(test['proportion cases'], pred/X_test['PopulationEstimate2018'])\n",
        "\n",
        "constant_rmse = rmse(test['proportion cases'], np.mean(Y_test)/X_test['PopulationEstimate2018'])\n",
        "\n",
        "print('RMSE of constant model: {} \\nRMSE of social_distancing model {}'.format(constant_rmse, social_distancing_rmse))"
      ],
      "execution_count": null,
      "outputs": [
        {
          "output_type": "stream",
          "text": [
            "RMSE of constant model: 0.015546763088882013 \n",
            "RMSE of social_distancing model 0.011972370840164231\n"
          ],
          "name": "stdout"
        }
      ]
    },
    {
      "cell_type": "code",
      "metadata": {
        "id": "sCSllaIqLpBN",
        "outputId": "ada58ac9-4949-4dbc-c515-1a1071ccc56f",
        "colab": {
          "base_uri": "https://localhost:8080/",
          "height": 603
        }
      },
      "source": [
        "N = len(Y_test)\n",
        "ind = np.arange(N)\n",
        "width = 0.35\n",
        "\n",
        "fig, ax = plt.subplots(figsize =(15,8))\n",
        "rects1 = ax.bar(ind, Y_test/test['PopulationEstimate2018'], width, color = 'orange', label = 'Actual')\n",
        "rects2 = ax.bar(ind+width, pred/test['PopulationEstimate2018'], width, color = 'green', label = 'Prediction')\n",
        "\n",
        "ax.set_ylabel('Cases of COVID-19 as a Proportion of Population')\n",
        "ax.set_title('Comparing Actual Proportions to Linear Regression Predictions')\n",
        "ax.set_xticks(ind + width / 2)\n",
        "ax.set_xticklabels(test['county'], rotation = 90)\n",
        "ax.set_xlabel('Counties for PA, FL, and CA')\n",
        "plt.legend()"
      ],
      "execution_count": null,
      "outputs": [
        {
          "output_type": "execute_result",
          "data": {
            "text/plain": [
              "<matplotlib.legend.Legend at 0x7f300125a3c8>"
            ]
          },
          "metadata": {
            "tags": []
          },
          "execution_count": 47
        },
        {
          "output_type": "display_data",
          "data": {
            "image/png": "[encoded data removed]",
            "text/plain": [
              "<Figure size 1080x576 with 1 Axes>"
            ]
          },
          "metadata": {
            "tags": [],
            "needs_background": "light"
          }
        }
      ]
    },
    {
      "cell_type": "markdown",
      "metadata": {
        "id": "z5pWHCr7VSRz"
      },
      "source": [
        "Interestingly, when we predict the total number of cases rather than the cases as a _proportion_ of population, it appears on the surface that we get a better model. Inspecting the graph comparing our predictions to our truth values, we see that many of our predictions are negative. So while our RMSE is smaller, this model is not useful as it is not meaningful to have the proportion of COVID-19 cases be a negative number."
      ]
    },
    {
      "cell_type": "code",
      "metadata": {
        "id": "lu8n8rRvVR1a",
        "outputId": "3766c777-c4a6-4116-8498-f5b1acaef1c3",
        "colab": {
          "base_uri": "https://localhost:8080/",
          "height": 54
        }
      },
      "source": [
        "grouped_three.columns\n",
        "lr_model_3_df = grouped_three[['PopulationEstimate2018', '#EligibleforMedicare2018', '#Hospitals',\t'#ICU_beds', 'county', 'proportion cases', 'cases']].dropna()\n",
        "\n",
        "train, test = sklearn.model_selection.train_test_split(lr_model_3_df, train_size=0.8, test_size=0.2, random_state=42)\n",
        "X_train = train[['#EligibleforMedicare2018', '#Hospitals',\t'#ICU_beds']]\n",
        "X_test = test[['#EligibleforMedicare2018', '#Hospitals',\t'#ICU_beds']]\n",
        "Y_train = train['proportion cases']\n",
        "Y_test = test['proportion cases']\n",
        "\n",
        "#A constant model for sake of comparison\n",
        "constant_rmse = rmse(Y_test, np.mean(Y_test))\n",
        "\n",
        "#Fitting our model\n",
        "healthcare_model = LinearRegression()\n",
        "healthcare_model.fit(X_train, Y_train)\n",
        "pred = healthcare_model.predict(X_test)\n",
        "\n",
        "healthcare_rmse = rmse(Y_test, pred)\n",
        "\n",
        "print('RMSE of constant model: {} \\nRMSE of healthcare model {}'.format(constant_rmse, healthcare_rmse))"
      ],
      "execution_count": null,
      "outputs": [
        {
          "output_type": "stream",
          "text": [
            "RMSE of constant model: 0.0015139412921815509 \n",
            "RMSE of healthcare model 0.0016582249377872934\n"
          ],
          "name": "stdout"
        }
      ]
    },
    {
      "cell_type": "code",
      "metadata": {
        "id": "qv4HTZERBXYy",
        "outputId": "f1eca620-d84c-49a1-8604-3092d47955cc",
        "colab": {
          "base_uri": "https://localhost:8080/",
          "height": 54
        }
      },
      "source": [
        "#One simple model: Predicting the number of cases using the dem_to_rep_ratio and Population estimate\n",
        "#Create a dataset that isn't a time series\n",
        "grouped_three = big_df[big_df['state'] == 'Florida'].groupby('county').max().reset_index()\n",
        "lr_model_4_df = grouped_three[['dem_to_rep_ratio', 'proportion cases', 'county']].dropna()\n",
        "#Creating train and test set\n",
        "train, test = sklearn.model_selection.train_test_split(lr_model_4_df, train_size=0.8, test_size=0.2, random_state=42)\n",
        "X_train = train[['dem_to_rep_ratio']]\n",
        "X_test = test[['dem_to_rep_ratio']]\n",
        "Y_train = train['proportion cases']\n",
        "Y_test = test['proportion cases']\n",
        "\n",
        "#A constant model for sake of comparison\n",
        "constant_rmse = rmse(Y_test, np.mean(Y_test))\n",
        "\n",
        "#Fitting our model\n",
        "simple_model = LinearRegression()\n",
        "simple_model.fit(X_train, Y_train)\n",
        "pred = simple_model.predict(X_test)\n",
        "dem_to_rep_rmse = rmse(pred, Y_test)\n",
        "\n",
        "print('RMSE of constant model: {} \\nRMSE of dem_to_rep model {}'.format(constant_rmse, dem_to_rep_rmse))"
      ],
      "execution_count": null,
      "outputs": [
        {
          "output_type": "stream",
          "text": [
            "RMSE of constant model: 0.00595310312084068 \n",
            "RMSE of dem_to_rep model 0.006215647510566053\n"
          ],
          "name": "stdout"
        }
      ]
    },
    {
      "cell_type": "code",
      "metadata": {
        "id": "a5EGSA6WzyXz",
        "outputId": "c60c930a-ad83-42d8-e75c-4bad82ba0e54",
        "colab": {
          "base_uri": "https://localhost:8080/",
          "height": 54
        }
      },
      "source": [
        "#One simple model: Predicting the number of cases using the dem_to_rep_ratio and Population estimate\n",
        "#Create a dataset that isn't a time series\n",
        "grouped_three = big_df.groupby('county').max().reset_index()\n",
        "lr_model_4_df = grouped_three[['dem_to_rep_ratio', 'SVIPercentile', '#ICU_beds', 'MedicareEnrollment,AgedTot2017', 'proportion cases', 'county']].dropna()\n",
        "#Creating train and test set\n",
        "train, test = sklearn.model_selection.train_test_split(lr_model_4_df, train_size=0.8, test_size=0.2, random_state=42)\n",
        "X_train = train[['dem_to_rep_ratio', 'SVIPercentile', '#ICU_beds', 'MedicareEnrollment,AgedTot2017']]\n",
        "X_test = test[['dem_to_rep_ratio', 'SVIPercentile', '#ICU_beds', 'MedicareEnrollment,AgedTot2017']]\n",
        "Y_train = train['proportion cases']\n",
        "Y_test = test['proportion cases']\n",
        "\n",
        "#A constant model for sake of comparison\n",
        "constant_rmse = rmse(Y_test, np.mean(Y_test))\n",
        "\n",
        "#Fitting our model\n",
        "simple_model = LinearRegression()\n",
        "simple_model.fit(X_train, Y_train)\n",
        "pred = simple_model.predict(X_test)\n",
        "dem_to_rep_rmse = rmse(pred, Y_test)\n",
        "\n",
        "print('RMSE of constant model: {} \\nRMSE of dem_to_rep model 2 {}'.format(constant_rmse, dem_to_rep_rmse))"
      ],
      "execution_count": null,
      "outputs": [
        {
          "output_type": "stream",
          "text": [
            "RMSE of constant model: 0.0015139412921815509 \n",
            "RMSE of dem_to_rep model 2 0.001707970879076972\n"
          ],
          "name": "stdout"
        }
      ]
    },
    {
      "cell_type": "code",
      "metadata": {
        "id": "NSB9GI6B1oPb",
        "outputId": "3791cf31-87b4-4565-9ede-374e74ee47b2",
        "colab": {
          "base_uri": "https://localhost:8080/",
          "height": 603
        }
      },
      "source": [
        "N = len(Y_test)\n",
        "ind = np.arange(N)\n",
        "width = 0.35\n",
        "\n",
        "fig, ax = plt.subplots(figsize =(15,8))\n",
        "rects1 = ax.bar(ind, Y_test, width, color = 'lightcoral', label = 'Actual')\n",
        "rects2 = ax.bar(ind+width, pred, width, color = 'lightseagreen', label = 'Prediction')\n",
        "\n",
        "ax.set_ylabel('Cases of COVID-19 as a Proportion of Population')\n",
        "ax.set_title('Comparing Actual Proportions to Linear Regression Predictions')\n",
        "ax.set_xticks(ind + width / 2)\n",
        "ax.set_xticklabels(test['county'], rotation = 90)\n",
        "ax.set_xlabel('Counties for PA, FL, and CA')\n",
        "plt.legend()"
      ],
      "execution_count": null,
      "outputs": [
        {
          "output_type": "execute_result",
          "data": {
            "text/plain": [
              "<matplotlib.legend.Legend at 0x7f30013b9b70>"
            ]
          },
          "metadata": {
            "tags": []
          },
          "execution_count": 51
        },
        {
          "output_type": "display_data",
          "data": {
            "image/png": "[encoded data removed]",
            "text/plain": [
              "<Figure size 1080x576 with 1 Axes>"
            ]
          },
          "metadata": {
            "tags": [],
            "needs_background": "light"
          }
        }
      ]
    },
    {
      "cell_type": "code",
      "metadata": {
        "id": "SpsMEY8f06Qc"
      },
      "source": [
        ""
      ],
      "execution_count": null,
      "outputs": []
    }
  ]
}